{
 "cells": [
  {
   "cell_type": "code",
   "execution_count": 1,
   "metadata": {},
   "outputs": [],
   "source": [
    "import networkx as nx"
   ]
  },
  {
   "cell_type": "code",
   "execution_count": 210,
   "metadata": {},
   "outputs": [],
   "source": [
    "import random\n",
    "import numpy as np\n",
    "import pandas as pd"
   ]
  },
  {
   "cell_type": "code",
   "execution_count": 77,
   "metadata": {},
   "outputs": [],
   "source": [
    "import altair as alt\n",
    "import nx_altair"
   ]
  },
  {
   "cell_type": "code",
   "execution_count": 38,
   "metadata": {},
   "outputs": [],
   "source": [
    "def alnumspace(string):\n",
    "    return string.isalnum() or string==' '"
   ]
  },
  {
   "cell_type": "code",
   "execution_count": 120,
   "metadata": {},
   "outputs": [],
   "source": [
    "stopwords = \"i|me|my|myself|we|us|our|ours|ourselves|you|your|yours|yourself|yourselves|he|him|his|himself|she|her|hers|herself|it|its|itself|they|them|their|theirs|themselves|what|which|who|whom|whose|this|that|these|those|am|is|are|was|were|be|been|being|have|has|had|having|do|does|did|doing|will|would|should|can|could|ought|i'm|you're|he's|she's|it's|we're|they're|i've|you've|we've|they've|i'd|you'd|he'd|she'd|we'd|they'd|i'll|you'll|he'll|she'll|we'll|they'll|isn't|aren't|wasn't|weren't|hasn't|haven't|hadn't|doesn't|don't|didn't|won't|wouldn't|shan't|shouldn't|can't|cannot|couldn't|mustn't|let's|that's|who's|what's|here's|there's|when's|where's|why's|how's|a|an|the|and|but|if|or|because|as|until|while|of|at|by|for|with|about|against|between|into|through|during|before|after|above|below|to|from|up|upon|down|in|out|on|off|over|under|again|further|then|once|here|there|when|where|why|how|all|any|both|each|few|more|most|other|some|such|no|nor|not|only|own|same|so|than|too|very|say|says|said|shall\"\n",
    "stopwords = set(stopwords.upper().split('|'))\n",
    "wordlist = \"Declarative visualization grammars can accelerate development, facilitate retargeting across platforms, and allow language-level optimizations. However, existing declarative visualization languages are primarily concerned with visual encoding, and rely on imperative event handlers for interactive behaviors. In response, we introduce a model of declarative interaction design for data visualizations. Adopting methods from reactive programming, we model low-level events as composable data streams from which we form higher-level semantic signals. Signals feed predicates and scale inversions, which allow us to generalize interactive selections at the level of item geometry (pixels) into interactive queries over the data domain. Production rules then use these queries to manipulate the visualization’s appearance. To facilitate reuse and sharing, these constructs can be encapsulated as named interactors: standalone, purely declarative specifications of interaction techniques. We assess our model’s feasibility and expressivity by instantiating it with extensions to the Vega visualization grammar. Through a diverse range of examples, we demonstrate coverage over an established taxonomy of visualization interaction techniques.We present Reactive Vega, a system architecture that provides the first robust and comprehensive treatment of declarative visual and interaction design for data visualization. Starting from a single declarative specification, Reactive Vega constructs a dataflow graph in which input data, scene graph elements, and interaction events are all treated as first-class streaming data sources. To support expressive interactive visualizations that may involve time-varying scalar, relational, or hierarchical data, Reactive Vega’s dataflow graph can dynamically re-write itself at runtime by extending or pruning branches in a data-driven fashion. We discuss both compile- and run-time optimizations applied within Reactive Vega, and share the results of benchmark studies that indicate superior interactive performance to both D3 and the original, non-reactive Vega system.We present Vega-Lite, a high-level grammar that enables rapid specification of interactive data visualizations. Vega-Lite combines a traditional grammar of graphics, providing visual encoding rules and a composition algebra for layered and multi-view displays, with a novel grammar of interaction. Users specify interactive semantics by composing selections. In Vega-Lite, a selection is an abstraction that defines input event processing, points of interest, and a predicate function for inclusion testing. Selections parameterize visual encodings by serving as input data, defining scale extents, or by driving conditional logic. The Vega-Lite compiler automatically synthesizes requisite data flow and event handling logic, which users can override for further customization. In contrast to existing reactive specifications, Vega-Lite selections decompose an interaction design into concise, enumerable semantic units. We evaluate Vega-Lite through a range of examples, demonstrating succinct specification of both customized interaction methods and common techniques such as panning, zooming, and linked selection.\"\n",
    "wordlist = [c for c in filter(alnumspace, wordlist)]\n",
    "wordlist = ''.join(wordlist).split(' ')\n",
    "wordlist = [word.upper() for word in wordlist if word.upper() not in stopwords]"
   ]
  },
  {
   "cell_type": "code",
   "execution_count": 121,
   "metadata": {},
   "outputs": [],
   "source": [
    "from collections import Counter\n",
    "word_counts = Counter(wordlist)"
   ]
  },
  {
   "cell_type": "code",
   "execution_count": 296,
   "metadata": {},
   "outputs": [],
   "source": [
    "wc = pd.DataFrame().from_dict(word_counts, orient='index').reset_index()\n",
    "wc.columns = ['word', 'count']\n",
    "wcfiltered = wc[wc['count']>1]"
   ]
  },
  {
   "cell_type": "code",
   "execution_count": 323,
   "metadata": {},
   "outputs": [],
   "source": [
    "def shuffled_range(n): return random.sample(range(n), k=n)\n",
    "n = len(wcfiltered)\n",
    "x = shuffled_range(n)\n",
    "y = shuffled_range(n)\n",
    "data = wcfiltered.assign(x=x,y=y)"
   ]
  },
  {
   "cell_type": "code",
   "execution_count": 324,
   "metadata": {},
   "outputs": [
    {
     "data": {
      "text/html": [
       "\n",
       "<div id=\"altair-viz-5e3c762fc566409f92bd0cb29c8cb031\"></div>\n",
       "<script type=\"text/javascript\">\n",
       "  (function(spec, embedOpt){\n",
       "    let outputDiv = document.currentScript.previousElementSibling;\n",
       "    if (outputDiv.id !== \"altair-viz-5e3c762fc566409f92bd0cb29c8cb031\") {\n",
       "      outputDiv = document.getElementById(\"altair-viz-5e3c762fc566409f92bd0cb29c8cb031\");\n",
       "    }\n",
       "    const paths = {\n",
       "      \"vega\": \"https://cdn.jsdelivr.net/npm//vega@5?noext\",\n",
       "      \"vega-lib\": \"https://cdn.jsdelivr.net/npm//vega-lib?noext\",\n",
       "      \"vega-lite\": \"https://cdn.jsdelivr.net/npm//vega-lite@4.8.1?noext\",\n",
       "      \"vega-embed\": \"https://cdn.jsdelivr.net/npm//vega-embed@6?noext\",\n",
       "    };\n",
       "\n",
       "    function loadScript(lib) {\n",
       "      return new Promise(function(resolve, reject) {\n",
       "        var s = document.createElement('script');\n",
       "        s.src = paths[lib];\n",
       "        s.async = true;\n",
       "        s.onload = () => resolve(paths[lib]);\n",
       "        s.onerror = () => reject(`Error loading script: ${paths[lib]}`);\n",
       "        document.getElementsByTagName(\"head\")[0].appendChild(s);\n",
       "      });\n",
       "    }\n",
       "\n",
       "    function showError(err) {\n",
       "      outputDiv.innerHTML = `<div class=\"error\" style=\"color:red;\">${err}</div>`;\n",
       "      throw err;\n",
       "    }\n",
       "\n",
       "    function displayChart(vegaEmbed) {\n",
       "      vegaEmbed(outputDiv, spec, embedOpt)\n",
       "        .catch(err => showError(`Javascript Error: ${err.message}<br>This usually means there's a typo in your chart specification. See the javascript console for the full traceback.`));\n",
       "    }\n",
       "\n",
       "    if(typeof define === \"function\" && define.amd) {\n",
       "      requirejs.config({paths});\n",
       "      require([\"vega-embed\"], displayChart, err => showError(`Error loading script: ${err.message}`));\n",
       "    } else if (typeof vegaEmbed === \"function\") {\n",
       "      displayChart(vegaEmbed);\n",
       "    } else {\n",
       "      loadScript(\"vega\")\n",
       "        .then(() => loadScript(\"vega-lite\"))\n",
       "        .then(() => loadScript(\"vega-embed\"))\n",
       "        .catch(showError)\n",
       "        .then(() => displayChart(vegaEmbed));\n",
       "    }\n",
       "  })({\"config\": {\"view\": {\"continuousWidth\": 400, \"continuousHeight\": 300, \"strokeWidth\": 0}}, \"data\": {\"name\": \"data-6905d258d06322e467c7f499d10eb487\"}, \"mark\": {\"type\": \"text\", \"baseline\": \"middle\"}, \"encoding\": {\"color\": {\"type\": \"quantitative\", \"field\": \"count\", \"scale\": {\"scheme\": \"goldred\"}}, \"size\": {\"type\": \"quantitative\", \"field\": \"count\", \"legend\": null}, \"text\": {\"type\": \"nominal\", \"field\": \"word\"}, \"x\": {\"type\": \"quantitative\", \"axis\": null, \"field\": \"x\"}, \"y\": {\"type\": \"quantitative\", \"axis\": null, \"field\": \"y\"}}, \"$schema\": \"https://vega.github.io/schema/vega-lite/v4.8.1.json\", \"datasets\": {\"data-6905d258d06322e467c7f499d10eb487\": [{\"word\": \"DECLARATIVE\", \"count\": 6, \"x\": 0, \"y\": 5}, {\"word\": \"VISUALIZATION\", \"count\": 5, \"x\": 25, \"y\": 20}, {\"word\": \"FACILITATE\", \"count\": 2, \"x\": 35, \"y\": 22}, {\"word\": \"ALLOW\", \"count\": 2, \"x\": 11, \"y\": 36}, {\"word\": \"OPTIMIZATIONS\", \"count\": 2, \"x\": 15, \"y\": 17}, {\"word\": \"EXISTING\", \"count\": 2, \"x\": 27, \"y\": 30}, {\"word\": \"VISUAL\", \"count\": 4, \"x\": 40, \"y\": 3}, {\"word\": \"ENCODING\", \"count\": 2, \"x\": 16, \"y\": 18}, {\"word\": \"EVENT\", \"count\": 3, \"x\": 8, \"y\": 29}, {\"word\": \"INTERACTIVE\", \"count\": 7, \"x\": 31, \"y\": 24}, {\"word\": \"MODEL\", \"count\": 2, \"x\": 10, \"y\": 21}, {\"word\": \"INTERACTION\", \"count\": 8, \"x\": 34, \"y\": 16}, {\"word\": \"DESIGN\", \"count\": 3, \"x\": 6, \"y\": 15}, {\"word\": \"DATA\", \"count\": 10, \"x\": 24, \"y\": 33}, {\"word\": \"VISUALIZATIONS\", \"count\": 4, \"x\": 21, \"y\": 7}, {\"word\": \"METHODS\", \"count\": 2, \"x\": 9, \"y\": 8}, {\"word\": \"REACTIVE\", \"count\": 6, \"x\": 26, \"y\": 27}, {\"word\": \"EVENTS\", \"count\": 2, \"x\": 29, \"y\": 23}, {\"word\": \"SEMANTIC\", \"count\": 2, \"x\": 38, \"y\": 31}, {\"word\": \"SIGNALS\", \"count\": 2, \"x\": 20, \"y\": 19}, {\"word\": \"SCALE\", \"count\": 2, \"x\": 14, \"y\": 39}, {\"word\": \"SELECTIONS\", \"count\": 4, \"x\": 37, \"y\": 38}, {\"word\": \"QUERIES\", \"count\": 2, \"x\": 4, \"y\": 13}, {\"word\": \"RULES\", \"count\": 2, \"x\": 18, \"y\": 26}, {\"word\": \"CONSTRUCTS\", \"count\": 2, \"x\": 22, \"y\": 9}, {\"word\": \"SPECIFICATIONS\", \"count\": 2, \"x\": 7, \"y\": 11}, {\"word\": \"TECHNIQUES\", \"count\": 2, \"x\": 39, \"y\": 0}, {\"word\": \"VEGA\", \"count\": 5, \"x\": 30, \"y\": 12}, {\"word\": \"GRAMMAR\", \"count\": 4, \"x\": 1, \"y\": 25}, {\"word\": \"RANGE\", \"count\": 2, \"x\": 23, \"y\": 6}, {\"word\": \"EXAMPLES\", \"count\": 2, \"x\": 28, \"y\": 14}, {\"word\": \"PRESENT\", \"count\": 2, \"x\": 2, \"y\": 2}, {\"word\": \"SPECIFICATION\", \"count\": 3, \"x\": 17, \"y\": 1}, {\"word\": \"DATAFLOW\", \"count\": 2, \"x\": 12, \"y\": 28}, {\"word\": \"GRAPH\", \"count\": 3, \"x\": 36, \"y\": 4}, {\"word\": \"INPUT\", \"count\": 3, \"x\": 32, \"y\": 37}, {\"word\": \"RUNTIME\", \"count\": 2, \"x\": 33, \"y\": 40}, {\"word\": \"VEGALITE\", \"count\": 6, \"x\": 13, \"y\": 10}, {\"word\": \"USERS\", \"count\": 2, \"x\": 3, \"y\": 32}, {\"word\": \"SELECTION\", \"count\": 2, \"x\": 5, \"y\": 34}, {\"word\": \"LOGIC\", \"count\": 2, \"x\": 19, \"y\": 35}]}}, {\"mode\": \"vega-lite\"});\n",
       "</script>"
      ],
      "text/plain": [
       "alt.Chart(...)"
      ]
     },
     "execution_count": 324,
     "metadata": {},
     "output_type": "execute_result"
    }
   ],
   "source": [
    "base = alt.Chart(data).encode(\n",
    "    x=alt.X('x:Q', axis=None),\n",
    "    y=alt.Y('y:Q', axis=None)\n",
    ").configure_view(strokeWidth=0)\n",
    "\n",
    "\n",
    "text = base.mark_text(baseline='middle').encode(\n",
    "    text='word:N',\n",
    "    color=alt.Color('count:Q',\n",
    "                    scale=alt.Scale(scheme='goldred'),\n",
    "                   ),\n",
    "    size=alt.Size('count:Q', legend=None)\n",
    ")\n",
    "\n",
    "text"
   ]
  },
  {
   "cell_type": "markdown",
   "metadata": {},
   "source": [
    "## set up graph"
   ]
  },
  {
   "cell_type": "code",
   "execution_count": 31,
   "metadata": {},
   "outputs": [],
   "source": [
    "nodes = [str(n) for n in range(20)]\n",
    "\n",
    "edges = []\n",
    "for n in range(15):\n",
    "    start = np.random.choice(nodes)\n",
    "    end = np.random.choice(list(set(nodes) - {start}))\n",
    "    edges += [(str(start), str(end))]\n",
    "    \n",
    "G = nx.Graph()\n",
    "G.add_nodes_from(node_list)\n",
    "G.add_edges_from(edges)\n",
    "\n",
    "pos = nx.spring_layout(G)"
   ]
  },
  {
   "cell_type": "markdown",
   "metadata": {},
   "source": [
    "add words to graph"
   ]
  },
  {
   "cell_type": "code",
   "execution_count": 328,
   "metadata": {},
   "outputs": [],
   "source": [
    "for edge in G.edges:\n",
    "    G.edges[edge]['words'] = np.random.choice(wordlist, size=np.random.randint(8), replace=False)"
   ]
  },
  {
   "cell_type": "code",
   "execution_count": 514,
   "metadata": {},
   "outputs": [],
   "source": [
    "def get_graph_dfs(G, pos):\n",
    "    node_data = pd.DataFrame.from_dict(pos).transpose()\n",
    "    node_data.columns = 'x', 'y'\n",
    "    node_data['node_id'] = layout_data.index\n",
    "    \n",
    "    def get_node_position(end, i):\n",
    "        def f(d): return d[end].apply(lambda r: pos[r][i])\n",
    "        return f\n",
    "\n",
    "    edge_data = nx.to_pandas_edgelist(G).assign(\n",
    "        x=get_node_position('source', 0),\n",
    "        y=get_node_position('source', 1),\n",
    "        x2=get_node_position('target', 0),\n",
    "        y2=get_node_position('target', 1)\n",
    "    )\n",
    "    \n",
    "    return node_data, edge_data"
   ]
  },
  {
   "cell_type": "code",
   "execution_count": 515,
   "metadata": {},
   "outputs": [],
   "source": [
    "node_data, edge_data = get_graph_dfs(G, pos)"
   ]
  },
  {
   "cell_type": "code",
   "execution_count": 545,
   "metadata": {},
   "outputs": [
    {
     "data": {
      "text/html": [
       "\n",
       "<div id=\"altair-viz-c697d8f34e2a43b6817401ae09121171\"></div>\n",
       "<script type=\"text/javascript\">\n",
       "  (function(spec, embedOpt){\n",
       "    let outputDiv = document.currentScript.previousElementSibling;\n",
       "    if (outputDiv.id !== \"altair-viz-c697d8f34e2a43b6817401ae09121171\") {\n",
       "      outputDiv = document.getElementById(\"altair-viz-c697d8f34e2a43b6817401ae09121171\");\n",
       "    }\n",
       "    const paths = {\n",
       "      \"vega\": \"https://cdn.jsdelivr.net/npm//vega@5?noext\",\n",
       "      \"vega-lib\": \"https://cdn.jsdelivr.net/npm//vega-lib?noext\",\n",
       "      \"vega-lite\": \"https://cdn.jsdelivr.net/npm//vega-lite@4.8.1?noext\",\n",
       "      \"vega-embed\": \"https://cdn.jsdelivr.net/npm//vega-embed@6?noext\",\n",
       "    };\n",
       "\n",
       "    function loadScript(lib) {\n",
       "      return new Promise(function(resolve, reject) {\n",
       "        var s = document.createElement('script');\n",
       "        s.src = paths[lib];\n",
       "        s.async = true;\n",
       "        s.onload = () => resolve(paths[lib]);\n",
       "        s.onerror = () => reject(`Error loading script: ${paths[lib]}`);\n",
       "        document.getElementsByTagName(\"head\")[0].appendChild(s);\n",
       "      });\n",
       "    }\n",
       "\n",
       "    function showError(err) {\n",
       "      outputDiv.innerHTML = `<div class=\"error\" style=\"color:red;\">${err}</div>`;\n",
       "      throw err;\n",
       "    }\n",
       "\n",
       "    function displayChart(vegaEmbed) {\n",
       "      vegaEmbed(outputDiv, spec, embedOpt)\n",
       "        .catch(err => showError(`Javascript Error: ${err.message}<br>This usually means there's a typo in your chart specification. See the javascript console for the full traceback.`));\n",
       "    }\n",
       "\n",
       "    if(typeof define === \"function\" && define.amd) {\n",
       "      requirejs.config({paths});\n",
       "      require([\"vega-embed\"], displayChart, err => showError(`Error loading script: ${err.message}`));\n",
       "    } else if (typeof vegaEmbed === \"function\") {\n",
       "      displayChart(vegaEmbed);\n",
       "    } else {\n",
       "      loadScript(\"vega\")\n",
       "        .then(() => loadScript(\"vega-lite\"))\n",
       "        .then(() => loadScript(\"vega-embed\"))\n",
       "        .catch(showError)\n",
       "        .then(() => displayChart(vegaEmbed));\n",
       "    }\n",
       "  })({\"config\": {\"view\": {\"continuousWidth\": 400, \"continuousHeight\": 300}}, \"layer\": [{\"data\": {\"name\": \"data-ea9c0a0c1ce43ed982628b1a820b5187\"}, \"mark\": \"line\", \"encoding\": {\"x\": {\"type\": \"quantitative\", \"axis\": null, \"field\": \"x\"}, \"x2\": {\"field\": \"x2\"}, \"y\": {\"type\": \"quantitative\", \"axis\": null, \"field\": \"y\"}, \"y2\": {\"field\": \"y2\"}}, \"selection\": {\"selector052\": {\"type\": \"interval\"}}}, {\"data\": {\"name\": \"data-4659d5249bcd62a973ec757e4e8dcfda\"}, \"mark\": {\"type\": \"point\", \"size\": 100}, \"encoding\": {\"color\": {\"condition\": {\"type\": \"quantitative\", \"field\": \"x\", \"selection\": \"selector052\"}, \"value\": \"grey\"}, \"x\": {\"type\": \"quantitative\", \"field\": \"x\"}, \"y\": {\"type\": \"quantitative\", \"field\": \"y\"}}}, {\"data\": {\"name\": \"data-4659d5249bcd62a973ec757e4e8dcfda\"}, \"mark\": {\"type\": \"text\", \"align\": \"left\", \"baseline\": \"middle\", \"dx\": 7}, \"encoding\": {\"color\": {\"condition\": {\"type\": \"quantitative\", \"field\": \"x\", \"selection\": \"selector052\"}, \"value\": \"grey\"}, \"text\": {\"type\": \"nominal\", \"field\": \"node_id\"}, \"x\": {\"type\": \"quantitative\", \"field\": \"x\"}, \"y\": {\"type\": \"quantitative\", \"field\": \"y\"}}}], \"$schema\": \"https://vega.github.io/schema/vega-lite/v4.8.1.json\", \"datasets\": {\"data-ea9c0a0c1ce43ed982628b1a820b5187\": [{\"source\": \"1\", \"target\": \"13\", \"words\": [\"SPECIFICATION\", \"ALLOW\", \"MAY\", \"INTERACTIVE\", \"SEMANTIC\", \"DEMONSTRATE\"], \"x\": -0.24535280697926604, \"y\": 0.40649408091890965, \"x2\": -0.37800660995009194, \"y2\": 0.42127705641966207}, {\"source\": \"1\", \"target\": \"6\", \"words\": [\"TREATED\"], \"x\": -0.24535280697926604, \"y\": 0.40649408091890965, \"x2\": -0.09136251119622202, \"y2\": 0.28955857044083316}, {\"source\": \"1\", \"target\": \"16\", \"words\": [\"ZOOMING\", \"SELECTION\", \"EXISTING\", \"CUSTOMIZED\", \"DESIGN\", \"ELEMENTS\"], \"x\": -0.24535280697926604, \"y\": 0.40649408091890965, \"x2\": -0.3023209587714023, \"y2\": 0.5230110622333239}, {\"source\": \"2\", \"target\": \"9\", \"words\": [\"PLATFORMS\", \"DATA\", \"EVENT\", \"SEMANTICS\", \"ALLOW\", \"ZOOMING\"], \"x\": 0.2351431171817227, \"y\": -0.21099508819307616, \"x2\": 0.20436079969686355, \"y2\": -0.029645175320332232}, {\"source\": \"2\", \"target\": \"3\", \"words\": [], \"x\": 0.2351431171817227, \"y\": -0.21099508819307616, \"x2\": 0.25692733636360354, \"y2\": -0.3689932642927886}, {\"source\": \"3\", \"target\": \"18\", \"words\": [\"NOVEL\", \"PROGRAMMING\", \"DATA\", \"DISPLAYS\", \"VISUAL\", \"RUNTIME\", \"REWRITE\"], \"x\": 0.25692733636360354, \"y\": -0.3689932642927886, \"x2\": 0.27446151828493837, \"y2\": -0.492451385746889}, {\"source\": \"5\", \"target\": \"17\", \"words\": [\"DOMAIN\", \"RELY\", \"INTERACTIVE\", \"HOWEVER\", \"ACCELERATE\", \"FUNCTION\", \"INTERACTIVE\"], \"x\": 0.484296299381414, \"y\": -0.030040626402639485, \"x2\": 0.3601600362198047, \"y2\": -0.030702237871811783}, {\"source\": \"6\", \"target\": \"19\", \"words\": [\"QUERIES\", \"GRAMMARS\", \"USERS\"], \"x\": -0.09136251119622202, \"y\": 0.28955857044083316, \"x2\": 0.06025491407399832, \"y2\": 0.13519468764970244}, {\"source\": \"7\", \"target\": \"15\", \"words\": [\"FASHION\", \"SELECTIONS\", \"FEASIBILITY\"], \"x\": -0.2784446106011871, \"y\": 0.15250251287769354, \"x2\": -0.16323635642547277, \"y2\": 0.13411152642735116}, {\"source\": \"9\", \"target\": \"17\", \"words\": [], \"x\": 0.20436079969686355, \"y\": -0.029645175320332232, \"x2\": 0.3601600362198047, \"y2\": -0.030702237871811783}, {\"source\": \"9\", \"target\": \"19\", \"words\": [\"DATA\", \"DECOMPOSE\", \"VEGALITE\", \"DEFINES\", \"TREATMENT\", \"QUERIES\"], \"x\": 0.20436079969686355, \"y\": -0.029645175320332232, \"x2\": 0.06025491407399832, \"y2\": 0.13519468764970244}, {\"source\": \"14\", \"target\": \"15\", \"words\": [\"MULTIVIEW\", \"DECLARATIVE\", \"GRAMMAR\", \"DATADRIVEN\"], \"x\": -0.014193305638213987, \"y\": 0.20688580820740615, \"x2\": -0.16323635642547277, \"y2\": 0.13411152642735116}, {\"source\": \"14\", \"target\": \"11\", \"words\": [\"USE\"], \"x\": -0.014193305638213987, \"y\": 0.20688580820740615, \"x2\": 0.07210682844311146, \"y2\": 0.3146387767240389}, {\"source\": \"14\", \"target\": \"19\", \"words\": [\"EVENTS\", \"DECLARATIVE\", \"SELECTION\", \"FUNCTION\"], \"x\": -0.014193305638213987, \"y\": 0.20688580820740615, \"x2\": 0.06025491407399832, \"y2\": 0.13519468764970244}, {\"source\": \"15\", \"target\": \"0\", \"words\": [\"SUPPORT\"], \"x\": -0.16323635642547277, \"y\": 0.13411152642735116, \"x2\": -0.2405286481851253, \"y2\": 0.03643532131380217}], \"data-4659d5249bcd62a973ec757e4e8dcfda\": [{\"x\": -0.24535280697926604, \"y\": 0.40649408091890965, \"node_id\": \"1\"}, {\"x\": 0.2351431171817227, \"y\": -0.21099508819307616, \"node_id\": \"2\"}, {\"x\": 0.25692733636360354, \"y\": -0.3689932642927886, \"node_id\": \"3\"}, {\"x\": -0.30136970676302954, \"y\": -1.0, \"node_id\": \"4\"}, {\"x\": 0.484296299381414, \"y\": -0.030040626402639485, \"node_id\": \"5\"}, {\"x\": -0.09136251119622202, \"y\": 0.28955857044083316, \"node_id\": \"6\"}, {\"x\": -0.2784446106011871, \"y\": 0.15250251287769354, \"node_id\": \"7\"}, {\"x\": 0.9984776261525916, \"y\": -0.0948521403797621, \"node_id\": \"8\"}, {\"x\": 0.20436079969686355, \"y\": -0.029645175320332232, \"node_id\": \"9\"}, {\"x\": -0.9313729612880366, \"y\": -0.36242948500542393, \"node_id\": \"10\"}, {\"x\": 0.3601600362198047, \"y\": -0.030702237871811783, \"node_id\": \"17\"}, {\"x\": -0.014193305638213987, \"y\": 0.20688580820740615, \"node_id\": \"14\"}, {\"x\": -0.16323635642547277, \"y\": 0.13411152642735116, \"node_id\": \"15\"}, {\"x\": 0.07210682844311146, \"y\": 0.3146387767240389, \"node_id\": \"11\"}, {\"x\": -0.37800660995009194, \"y\": 0.42127705641966207, \"node_id\": \"13\"}, {\"x\": -0.2405286481851253, \"y\": 0.03643532131380217, \"node_id\": \"0\"}, {\"x\": 0.06025491407399832, \"y\": 0.13519468764970244, \"node_id\": \"19\"}, {\"x\": -0.3023209587714023, \"y\": 0.5230110622333239, \"node_id\": \"16\"}, {\"x\": 0.27446151828493837, \"y\": -0.492451385746889, \"node_id\": \"18\"}]}}, {\"mode\": \"vega-lite\"});\n",
       "</script>"
      ],
      "text/plain": [
       "alt.LayerChart(...)"
      ]
     },
     "execution_count": 545,
     "metadata": {},
     "output_type": "execute_result"
    }
   ],
   "source": [
    "brush = alt.selection(type='interval')\n",
    "\n",
    "nodes = alt.Chart(node_data).mark_point(\n",
    "    size=100, \n",
    ").encode(\n",
    "    x='x',\n",
    "    y='y',\n",
    "    color=alt.condition(brush, 'x', alt.value('grey'))\n",
    ")\n",
    "\n",
    "labels = nodes.mark_text(\n",
    "    align='left',\n",
    "    baseline='middle',\n",
    "    dx=7\n",
    ").encode(\n",
    "    text='node_id'\n",
    ")\n",
    "\n",
    "edges = alt.Chart(edge_data).mark_line().encode(\n",
    "    alt.X('x', axis=None),\n",
    "    alt.Y('y', axis=None),\n",
    "    alt.X2('x2'),\n",
    "    alt.Y2('y2'),\n",
    ")\n",
    "\n",
    "\n",
    "\n",
    "graph_plot = (edges + nodes + labels).add_selection(brush)\n",
    "graph_plot"
   ]
  },
  {
   "cell_type": "code",
   "execution_count": null,
   "metadata": {},
   "outputs": [],
   "source": [
    "alt.Chart().mark_point()"
   ]
  }
 ],
 "metadata": {
  "kernelspec": {
   "display_name": "graph",
   "language": "python",
   "name": "graph"
  },
  "language_info": {
   "codemirror_mode": {
    "name": "ipython",
    "version": 3
   },
   "file_extension": ".py",
   "mimetype": "text/x-python",
   "name": "python",
   "nbconvert_exporter": "python",
   "pygments_lexer": "ipython3",
   "version": "3.8.5"
  }
 },
 "nbformat": 4,
 "nbformat_minor": 4
}
