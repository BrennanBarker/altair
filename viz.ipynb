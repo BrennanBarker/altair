{
 "cells": [
  {
   "cell_type": "code",
   "execution_count": 46,
   "metadata": {},
   "outputs": [],
   "source": [
    "import networkx as nx\n",
    "import pandas as pd\n",
    "\n",
    "import altair as alt\n",
    "import altair_saver\n",
    "import nx2alt"
   ]
  },
  {
   "cell_type": "markdown",
   "metadata": {},
   "source": [
    "# Data\n",
    "Here I set up fake data for this viz, normally I'd be grabbing from an API"
   ]
  },
  {
   "cell_type": "code",
   "execution_count": 2,
   "metadata": {},
   "outputs": [],
   "source": [
    "# arbitrary social graph skeleton:\n",
    "G = nx.karate_club_graph()"
   ]
  },
  {
   "cell_type": "code",
   "execution_count": 52,
   "metadata": {},
   "outputs": [],
   "source": [
    "# random data helpers\n",
    "from string import ascii_lowercase\n",
    "from random import sample, choice, randrange\n",
    "import datetime\n",
    "from collections import defaultdict\n",
    "\n",
    "def random_date(start_date=datetime.date(2015, 1, 1),\n",
    "                end_date=datetime.date(2021, 2, 1)):\n",
    "    time_between_dates = end_date - start_date\n",
    "    days_between_dates = time_between_dates.days\n",
    "    random_number_of_days = randrange(days_between_dates)\n",
    "    return str(start_date + datetime.timedelta(days=random_number_of_days))"
   ]
  },
  {
   "cell_type": "code",
   "execution_count": 56,
   "metadata": {},
   "outputs": [],
   "source": [
    "# random paper-y data:\n",
    "firstnames = ['Alice', 'Wilmer', 'Bert', 'Jim', 'Sally', 'Pepper', 'Winnie', 'Gerty', 'Stan', 'Oswald', 'Penny', 'Owen', 'Primo', 'Lucy', 'Ben', 'Shaquille', 'Frank', 'Fyodor', 'Ivan']\n",
    "lastnames = ['Tomson', 'Spear', 'Quinn', 'Wallace', 'Pillmore', 'Stone', 'Black', 'Whitmore', 'Olson', 'Knowles', 'Shakur', 'Smalls', 'Nonce', 'Salisbury', 'Weir', 'Piu']\n",
    "def random_name(): return f'{choice(firstnames)} {choice(lastnames)}'\n",
    "def random_username(): return ''.join(choice(ascii_lowercase) for n in range(5))\n",
    "\n",
    "# emails:\n",
    "domain_map = {\n",
    "    'Mr. Hi': 'hi.edu',\n",
    "    'Officer': 'officer.edu'\n",
    "}\n",
    "def inverted_map(mapping): return {v:k for k,v in mapping.items()}\n",
    "def org2dom(org): return domain_map.get(org, 'unknown')\n",
    "def dom2org(dom): return inverted_map(domain_map).get(dom, 'unknown')\n",
    "def eml2dom(eml): return eml.split('@')[-1]\n",
    "def eml2org(eml): return dom2org(eml2dom(eml))\n",
    "\n",
    "def alnumspace(string): return string.isalnum() or string==' '\n",
    "stopwords = \"i|me|my|myself|we|us|our|ours|ourselves|you|your|yours|yourself|yourselves|he|him|his|himself|she|her|hers|herself|it|its|itself|they|them|their|theirs|themselves|what|which|who|whom|whose|this|that|these|those|am|is|are|was|were|be|been|being|have|has|had|having|do|does|did|doing|will|would|should|can|could|ought|i'm|you're|he's|she's|it's|we're|they're|i've|you've|we've|they've|i'd|you'd|he'd|she'd|we'd|they'd|i'll|you'll|he'll|she'll|we'll|they'll|isn't|aren't|wasn't|weren't|hasn't|haven't|hadn't|doesn't|don't|didn't|won't|wouldn't|shan't|shouldn't|can't|cannot|couldn't|mustn't|let's|that's|who's|what's|here's|there's|when's|where's|why's|how's|a|an|the|and|but|if|or|because|as|until|while|of|at|by|for|with|about|against|between|into|through|during|before|after|above|below|to|from|up|upon|down|in|out|on|off|over|under|again|further|then|once|here|there|when|where|why|how|all|any|both|each|few|more|most|other|some|such|no|nor|not|only|own|same|so|than|too|very|say|says|said|shall\"\n",
    "stopwords = set(stopwords.upper().split('|'))\n",
    "wordlist = \"Declarative visualization grammars can accelerate development, facilitate retargeting across platforms, and allow language-level optimizations. However, existing declarative visualization languages are primarily concerned with visual encoding, and rely on imperative event handlers for interactive behaviors. In response, we introduce a model of declarative interaction design for data visualizations. Adopting methods from reactive programming, we model low-level events as composable data streams from which we form higher-level semantic signals. Signals feed predicates and scale inversions, which allow us to generalize interactive selections at the level of item geometry (pixels) into interactive queries over the data domain. Production rules then use these queries to manipulate the visualization’s appearance. To facilitate reuse and sharing, these constructs can be encapsulated as named interactors: standalone, purely declarative specifications of interaction techniques. We assess our model’s feasibility and expressivity by instantiating it with extensions to the Vega visualization grammar. Through a diverse range of examples, we demonstrate coverage over an established taxonomy of visualization interaction techniques.We present Reactive Vega, a system architecture that provides the first robust and comprehensive treatment of declarative visual and interaction design for data visualization. Starting from a single declarative specification, Reactive Vega constructs a dataflow graph in which input data, scene graph elements, and interaction events are all treated as first-class streaming data sources. To support expressive interactive visualizations that may involve time-varying scalar, relational, or hierarchical data, Reactive Vega’s dataflow graph can dynamically re-write itself at runtime by extending or pruning branches in a data-driven fashion. We discuss both compile- and run-time optimizations applied within Reactive Vega, and share the results of benchmark studies that indicate superior interactive performance to both D3 and the original, non-reactive Vega system.We present Vega-Lite, a high-level grammar that enables rapid specification of interactive data visualizations. Vega-Lite combines a traditional grammar of graphics, providing visual encoding rules and a composition algebra for layered and multi-view displays, with a novel grammar of interaction. Users specify interactive semantics by composing selections. In Vega-Lite, a selection is an abstraction that defines input event processing, points of interest, and a predicate function for inclusion testing. Selections parameterize visual encodings by serving as input data, defining scale extents, or by driving conditional logic. The Vega-Lite compiler automatically synthesizes requisite data flow and event handling logic, which users can override for further customization. In contrast to existing reactive specifications, Vega-Lite selections decompose an interaction design into concise, enumerable semantic units. We evaluate Vega-Lite through a range of examples, demonstrating succinct specification of both customized interaction methods and common techniques such as panning, zooming, and linked selection.\"\n",
    "wordlist = [c for c in filter(alnumspace, wordlist)]\n",
    "wordlist = ''.join(wordlist).split(' ')\n",
    "wordlist = [word.upper() for word in wordlist if (word and word.upper() not in stopwords)]\n",
    "\n",
    "topics = {word: choice(range(10)) for word in set(wordlist)}\n",
    "\n",
    "d = defaultdict(list)\n",
    "for word, topic in topics.items():\n",
    "    d[topic] += [word]\n",
    "topic_data = pd.DataFrame(d.items()).rename(columns={0:'topic', 1:'topic_words'})\n",
    "\n",
    "links = ['https://www.google.com', 'https://www.nytimes.com', 'https://www.altair-viz.github.io']"
   ]
  },
  {
   "cell_type": "code",
   "execution_count": 6,
   "metadata": {},
   "outputs": [],
   "source": [
    "from collections import Counter\n",
    "# analytics\n",
    "def guess_org(emls):\n",
    "    return Counter([eml2org(eml) for eml in emls]).most_common(n=1)[0][0]"
   ]
  },
  {
   "cell_type": "markdown",
   "metadata": {},
   "source": [
    "## Node Data"
   ]
  },
  {
   "cell_type": "code",
   "execution_count": 9,
   "metadata": {},
   "outputs": [],
   "source": [
    "for node in G.nodes:\n",
    "    n = G.nodes[node]\n",
    "    # change club to org\n",
    "    try: n['org'] = n.pop('club')\n",
    "    except: pass  # might already be popped\n",
    "    n['name'] = random_name()\n",
    "    n['email'] = f'{random_username()}@{org2dom(n['org'])}'\n",
    "    \n",
    "    # analytic\n",
    "    n['centrality'] = nx.degree_centrality(G)[node]"
   ]
  },
  {
   "cell_type": "markdown",
   "metadata": {},
   "source": [
    "## Edge Data"
   ]
  },
  {
   "cell_type": "code",
   "execution_count": 10,
   "metadata": {},
   "outputs": [],
   "source": [
    "for edge in G.edges:\n",
    "    e = G.edges[edge]\n",
    "    e['title'] = ' '.join(choice(wordlist) for n in range(3))\n",
    "    e['keywords'] = [choice(wordlist).lower() for n in range(5)]\n",
    "    e['emails'] = [G.nodes[author]['email'] for author in edge]\n",
    "    e['link'] = choice(links)\n",
    "    e['date'] = random_date()\n",
    "    \n",
    "    # analytic\n",
    "    e['topic'] = topics[choice(e['keywords']).upper()]\n",
    "    e['org'] = guess_org(e['emails'])"
   ]
  },
  {
   "cell_type": "markdown",
   "metadata": {},
   "source": [
    "# Viz"
   ]
  },
  {
   "cell_type": "code",
   "execution_count": 11,
   "metadata": {},
   "outputs": [],
   "source": [
    "node_data, edge_data = nx2alt.altair_network_data(G, nx.spring_layout)"
   ]
  },
  {
   "cell_type": "code",
   "execution_count": 192,
   "metadata": {},
   "outputs": [],
   "source": [
    "#selection brushes\n",
    "timebrush = alt.selection_interval(encodings=['x'])\n",
    "node_selector = alt.selection_single(empty='none')\n",
    "legend_selector = alt.selection_multi(fields=['topic'], bind='legend')\n",
    "\n",
    "node_base, edge_base = nx2alt.base_layers(node_data, edge_data)\n",
    "\n",
    "edges = (\n",
    "    edge_base\n",
    "    .mark_line(opacity=.9)\n",
    "    .encode(\n",
    "        color=alt.condition(timebrush, \n",
    "                            alt.Color('topic:N', legend=None),\n",
    "                            alt.value('lightgray')),\n",
    "        strokeWidth=alt.condition(timebrush, alt.value(3), alt.value(1))\n",
    "    )\n",
    ")\n",
    "\n",
    "nodes = (\n",
    "    node_base\n",
    "    .mark_circle(opacity=.9)\n",
    "    .encode(\n",
    "        fill='org:N',\n",
    "        size=alt.Size(\n",
    "            'centrality:Q', \n",
    "            scale=alt.Scale(range=[200,1000]),\n",
    "            legend=None),\n",
    "        tooltip=['name', 'email', 'org'],\n",
    "    )\n",
    "    .add_selection(node_selector)  # hack to make tooltips work\n",
    ")\n",
    "\n",
    "labels = node_base.mark_text().encode(text='node_id',)\n",
    "\n",
    "coauthor_network = (\n",
    "    (edges + nodes + labels)\n",
    "    .properties(\n",
    "        width=1325,\n",
    "        height=520\n",
    "    )\n",
    "    .interactive()\n",
    "    .add_selection(legend_selector)\n",
    "    \n",
    ")\n",
    "\n",
    "topic_timestrip = (\n",
    "    topic_strip\n",
    "    .encode(\n",
    "        x='date:T',\n",
    "        color=alt.condition(timebrush, 'topic:N', alt.value('lightgray')),\n",
    "        tooltip=['title', 'keywords'],\n",
    "        href='link:N',\n",
    "    )\n",
    "    .add_selection(timebrush)\n",
    "    .properties(width=1275)\n",
    ")\n",
    "\n",
    "legend = (\n",
    "    topic_strip\n",
    "    .encode(\n",
    "        color='topic:N',\n",
    "        tooltip=['topic_words:N']\n",
    "    )\n",
    "    .transform_lookup(\n",
    "        lookup='topic',\n",
    "        from_=alt.LookupData(\n",
    "            data=topic_data, \n",
    "            key='topic', \n",
    "            fields=['topic_words'])\n",
    "    )\n",
    "    .add_selection(legend_selector)\n",
    "    .properties(\n",
    "        title='topic',\n",
    "        width=10\n",
    "    )\n",
    ")"
   ]
  },
  {
   "cell_type": "code",
   "execution_count": 193,
   "metadata": {},
   "outputs": [],
   "source": [
    "chart = (\n",
    "    (coauthor_network & (legend | topic_timestrip))\n",
    "    .configure(title=alt.TitleConfig(fontSize=12))\n",
    "    .configure_legend(orient='top-left')\n",
    "    .configure_axisX(title=None)\n",
    "    .configure_axisY(title=None, ticks=False)\n",
    ")\n",
    "\n",
    "altair_saver.save(chart, \"viz.html\", inline=True) "
   ]
  },
  {
   "cell_type": "markdown",
   "metadata": {},
   "source": [
    "Questions:\n",
    "Who is involved\n",
    "Where are they from\n",
    "What are their selectors\n",
    "\n",
    "\n",
    "Who are the most important/prolific researchers?\n",
    "Who would be able to access the most others\n",
    "\n",
    "What are they researching?\n",
    "How have research topics changed over time\n",
    "Who are the most current authors\n",
    "Are they stovepiped?\n",
    "\n"
   ]
  }
 ],
 "metadata": {
  "kernelspec": {
   "display_name": "graph",
   "language": "python",
   "name": "graph"
  },
  "language_info": {
   "codemirror_mode": {
    "name": "ipython",
    "version": 3
   },
   "file_extension": ".py",
   "mimetype": "text/x-python",
   "name": "python",
   "nbconvert_exporter": "python",
   "pygments_lexer": "ipython3",
   "version": "3.8.5"
  }
 },
 "nbformat": 4,
 "nbformat_minor": 4
}
