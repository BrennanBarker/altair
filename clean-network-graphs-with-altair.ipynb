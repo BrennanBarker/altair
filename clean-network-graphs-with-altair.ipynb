{
 "cells": [
  {
   "cell_type": "code",
   "execution_count": 1,
   "metadata": {},
   "outputs": [
    {
     "name": "stderr",
     "output_type": "stream",
     "text": [
      "/home/pi/code/envs/graph/lib/python3.8/site-packages/pandas/compat/__init__.py:97: UserWarning: Could not import the lzma module. Your installed Python is incomplete. Attempting to use lzma compression will result in a RuntimeError.\n",
      "  warnings.warn(msg)\n"
     ]
    }
   ],
   "source": [
    "import numpy as np\n",
    "import pandas as pd\n",
    "import networkx as nx\n",
    "\n",
    "import altair as alt"
   ]
  },
  {
   "cell_type": "markdown",
   "metadata": {},
   "source": [
    "### Create Graphs"
   ]
  },
  {
   "cell_type": "code",
   "execution_count": 2,
   "metadata": {},
   "outputs": [],
   "source": [
    "G = nx.karate_club_graph()\n",
    "pos = nx.layout.spring_layout(G)"
   ]
  },
  {
   "cell_type": "markdown",
   "metadata": {},
   "source": [
    "### Embue arbitrary data"
   ]
  },
  {
   "cell_type": "code",
   "execution_count": 3,
   "metadata": {},
   "outputs": [],
   "source": [
    "wordlist = \"Declarative visualization grammars can accelerate development, facilitate retargeting across platforms, and allow language-level optimizations. However, existing declarative visualization languages are primarily concerned with visual encoding, and rely on imperative event handlers for interactive behaviors. In response, we introduce a model of declarative interaction design for data visualizations. Adopting methods from reactive programming, we model low-level events as composable data streams from which we form higher-level semantic signals. Signals feed predicates and scale inversions, which allow us to generalize interactive selections at the level of item geometry (pixels) into interactive queries over the data domain. Production rules then use these queries to manipulate the visualization’s appearance. To facilitate reuse and sharing, these constructs can be encapsulated as named interactors: standalone, purely declarative specifications of interaction techniques. We assess our model’s feasibility and expressivity by instantiating it with extensions to the Vega visualization grammar. Through a diverse range of examples, we demonstrate coverage over an established taxonomy of visualization interaction techniques.We present Reactive Vega, a system architecture that provides the first robust and comprehensive treatment of declarative visual and interaction design for data visualization. Starting from a single declarative specification, Reactive Vega constructs a dataflow graph in which input data, scene graph elements, and interaction events are all treated as first-class streaming data sources. To support expressive interactive visualizations that may involve time-varying scalar, relational, or hierarchical data, Reactive Vega’s dataflow graph can dynamically re-write itself at runtime by extending or pruning branches in a data-driven fashion. We discuss both compile- and run-time optimizations applied within Reactive Vega, and share the results of benchmark studies that indicate superior interactive performance to both D3 and the original, non-reactive Vega system.We present Vega-Lite, a high-level grammar that enables rapid specification of interactive data visualizations. Vega-Lite combines a traditional grammar of graphics, providing visual encoding rules and a composition algebra for layered and multi-view displays, with a novel grammar of interaction. Users specify interactive semantics by composing selections. In Vega-Lite, a selection is an abstraction that defines input event processing, points of interest, and a predicate function for inclusion testing. Selections parameterize visual encodings by serving as input data, defining scale extents, or by driving conditional logic. The Vega-Lite compiler automatically synthesizes requisite data flow and event handling logic, which users can override for further customization. In contrast to existing reactive specifications, Vega-Lite selections decompose an interaction design into concise, enumerable semantic units. We evaluate Vega-Lite through a range of examples, demonstrating succinct specification of both customized interaction methods and common techniques such as panning, zooming, and linked selection.\".split(' ')\n",
    "for edge in G.edges:\n",
    "    G.edges[edge]['words'] = np.random.choice(wordlist, size=np.random.randint(8), replace=False)\n",
    "\n",
    "for node in G.nodes:\n",
    "    G.nodes[node]['favorite_color'] =  np.random.choice(['blue', 'blue', 'blue', 'yellow'], replace=False)"
   ]
  },
  {
   "cell_type": "markdown",
   "metadata": {},
   "source": [
    "### Calculate Communities"
   ]
  },
  {
   "cell_type": "code",
   "execution_count": 4,
   "metadata": {},
   "outputs": [],
   "source": [
    "from networkx.algorithms.community import greedy_modularity_communities"
   ]
  },
  {
   "cell_type": "code",
   "execution_count": 5,
   "metadata": {},
   "outputs": [],
   "source": [
    "for node in G.nodes:\n",
    "    for i,v in enumerate(greedy_modularity_communities(G)):\n",
    "        if node in v: G.nodes[node]['community'] = i"
   ]
  },
  {
   "cell_type": "code",
   "execution_count": 6,
   "metadata": {},
   "outputs": [],
   "source": [
    "def _add_position(row, pos):\n",
    "    def get_pos_data(pos):\n",
    "        return pd.DataFrame.from_dict(pos).transpose().reset_index().rename(\n",
    "            columns={'index': 'node_id', 0:'x', 1:'y'}\n",
    "        )\n",
    "    def pos_lookup(node_id, pos_data):\n",
    "        return pos_data.query(f'node_id=={node_id}').values[0]\n",
    "    pos_data = get_pos_data(pos)\n",
    "    _, row['x'], row['y'] = pos_lookup(row.node_id, pos_data)\n",
    "    return row\n",
    "\n",
    "def alt_node_data(G, pos):\n",
    "    node_data_flat = pd.DataFrame.from_dict(G.nodes.data())\n",
    "    return node_data_flat.join(\n",
    "        pd.json_normalize(node_data_flat.pop(1))\n",
    "    ).rename(columns={0:'node_id'}).apply(\n",
    "        _add_position, axis=1, args=[pos]\n",
    "    )\n",
    "\n",
    "def alt_edge_data(G, pos):\n",
    "    edge_data = nx.to_pandas_edgelist(G).reset_index(\n",
    "    ).rename(\n",
    "        columns={'index': 'edge_id'}\n",
    "    )\n",
    "    id_vars = [c for c in edge_data.columns if c not in ['source', 'target']]\n",
    "    melted_edge_data = edge_data.melt(id_vars=id_vars, var_name='end', value_name='node_id')\n",
    "    return melted_edge_data.apply(\n",
    "        _add_position, axis=1, args=[pos]\n",
    "    )"
   ]
  },
  {
   "cell_type": "markdown",
   "metadata": {},
   "source": [
    "### Convert nx nodes, edges to altair format"
   ]
  },
  {
   "cell_type": "code",
   "execution_count": 7,
   "metadata": {},
   "outputs": [],
   "source": [
    "node_data = alt_node_data(G, pos)\n",
    "edge_data = alt_edge_data(G, pos)"
   ]
  },
  {
   "cell_type": "code",
   "execution_count": 8,
   "metadata": {},
   "outputs": [
    {
     "data": {
      "text/html": [
       "\n",
       "<div id=\"altair-viz-fef6e7f48ae648faa889e11e7edcb614\"></div>\n",
       "<script type=\"text/javascript\">\n",
       "  (function(spec, embedOpt){\n",
       "    let outputDiv = document.currentScript.previousElementSibling;\n",
       "    if (outputDiv.id !== \"altair-viz-fef6e7f48ae648faa889e11e7edcb614\") {\n",
       "      outputDiv = document.getElementById(\"altair-viz-fef6e7f48ae648faa889e11e7edcb614\");\n",
       "    }\n",
       "    const paths = {\n",
       "      \"vega\": \"https://cdn.jsdelivr.net/npm//vega@5?noext\",\n",
       "      \"vega-lib\": \"https://cdn.jsdelivr.net/npm//vega-lib?noext\",\n",
       "      \"vega-lite\": \"https://cdn.jsdelivr.net/npm//vega-lite@4.8.1?noext\",\n",
       "      \"vega-embed\": \"https://cdn.jsdelivr.net/npm//vega-embed@6?noext\",\n",
       "    };\n",
       "\n",
       "    function loadScript(lib) {\n",
       "      return new Promise(function(resolve, reject) {\n",
       "        var s = document.createElement('script');\n",
       "        s.src = paths[lib];\n",
       "        s.async = true;\n",
       "        s.onload = () => resolve(paths[lib]);\n",
       "        s.onerror = () => reject(`Error loading script: ${paths[lib]}`);\n",
       "        document.getElementsByTagName(\"head\")[0].appendChild(s);\n",
       "      });\n",
       "    }\n",
       "\n",
       "    function showError(err) {\n",
       "      outputDiv.innerHTML = `<div class=\"error\" style=\"color:red;\">${err}</div>`;\n",
       "      throw err;\n",
       "    }\n",
       "\n",
       "    function displayChart(vegaEmbed) {\n",
       "      vegaEmbed(outputDiv, spec, embedOpt)\n",
       "        .catch(err => showError(`Javascript Error: ${err.message}<br>This usually means there's a typo in your chart specification. See the javascript console for the full traceback.`));\n",
       "    }\n",
       "\n",
       "    if(typeof define === \"function\" && define.amd) {\n",
       "      requirejs.config({paths});\n",
       "      require([\"vega-embed\"], displayChart, err => showError(`Error loading script: ${err.message}`));\n",
       "    } else if (typeof vegaEmbed === \"function\") {\n",
       "      displayChart(vegaEmbed);\n",
       "    } else {\n",
       "      loadScript(\"vega\")\n",
       "        .then(() => loadScript(\"vega-lite\"))\n",
       "        .then(() => loadScript(\"vega-embed\"))\n",
       "        .catch(showError)\n",
       "        .then(() => displayChart(vegaEmbed));\n",
       "    }\n",
       "  })({\"config\": {\"view\": {\"continuousWidth\": 400, \"continuousHeight\": 300, \"strokeWidth\": 0}}, \"layer\": [{\"mark\": {\"type\": \"point\", \"size\": 200}, \"encoding\": {\"fill\": {\"type\": \"nominal\", \"field\": \"community\"}, \"tooltip\": [{\"type\": \"quantitative\", \"field\": \"node_id\"}, {\"type\": \"nominal\", \"field\": \"club\"}], \"x\": {\"type\": \"quantitative\", \"field\": \"x\"}, \"y\": {\"type\": \"quantitative\", \"field\": \"y\"}}}, {\"mark\": {\"type\": \"text\", \"align\": \"left\", \"baseline\": \"middle\", \"dx\": 10, \"dy\": -10}, \"encoding\": {\"fill\": {\"type\": \"nominal\", \"field\": \"community\"}, \"text\": {\"type\": \"quantitative\", \"field\": \"node_id\"}, \"tooltip\": [{\"type\": \"quantitative\", \"field\": \"node_id\"}, {\"type\": \"nominal\", \"field\": \"club\"}], \"x\": {\"type\": \"quantitative\", \"field\": \"x\"}, \"y\": {\"type\": \"quantitative\", \"field\": \"y\"}}}, {\"data\": {\"name\": \"data-f26cf29f429d93ccb901897dbef5c2fa\"}, \"mark\": \"line\", \"encoding\": {\"detail\": {\"type\": \"quantitative\", \"field\": \"edge_id\"}, \"strokeWidth\": {\"type\": \"quantitative\", \"field\": \"n_words\"}, \"x\": {\"type\": \"quantitative\", \"axis\": null, \"field\": \"x\"}, \"y\": {\"type\": \"quantitative\", \"axis\": null, \"field\": \"y\"}}}], \"data\": {\"name\": \"data-b62e26b49cc83d503db4a14104dd2387\"}, \"$schema\": \"https://vega.github.io/schema/vega-lite/v4.8.1.json\", \"datasets\": {\"data-b62e26b49cc83d503db4a14104dd2387\": [{\"node_id\": 0, \"club\": \"Mr. Hi\", \"favorite_color\": \"yellow\", \"community\": 2, \"x\": 0.3016413705723825, \"y\": -0.19354973896057806}, {\"node_id\": 1, \"club\": \"Mr. Hi\", \"favorite_color\": \"blue\", \"community\": 1, \"x\": 0.107552749710505, \"y\": -0.21161661914071375}, {\"node_id\": 2, \"club\": \"Mr. Hi\", \"favorite_color\": \"blue\", \"community\": 1, \"x\": -0.06998924431756955, \"y\": -0.08604635965982046}, {\"node_id\": 3, \"club\": \"Mr. Hi\", \"favorite_color\": \"blue\", \"community\": 1, \"x\": 0.19488950895957102, \"y\": -0.25013001167747456}, {\"node_id\": 4, \"club\": \"Mr. Hi\", \"favorite_color\": \"blue\", \"community\": 2, \"x\": 0.6078451617399153, \"y\": -0.1467541969964921}, {\"node_id\": 5, \"club\": \"Mr. Hi\", \"favorite_color\": \"blue\", \"community\": 2, \"x\": 0.7545114799098928, \"y\": -0.20074479509120133}, {\"node_id\": 6, \"club\": \"Mr. Hi\", \"favorite_color\": \"blue\", \"community\": 2, \"x\": 0.7292096292526661, \"y\": -0.08404966121176405}, {\"node_id\": 7, \"club\": \"Mr. Hi\", \"favorite_color\": \"blue\", \"community\": 1, \"x\": 0.07202868401076916, \"y\": -0.33876404584528924}, {\"node_id\": 8, \"club\": \"Mr. Hi\", \"favorite_color\": \"blue\", \"community\": 0, \"x\": 0.03328234650082275, \"y\": 0.12003813731898016}, {\"node_id\": 9, \"club\": \"Officer\", \"favorite_color\": \"blue\", \"community\": 1, \"x\": -0.3259509033754255, \"y\": -0.12205830791328076}, {\"node_id\": 10, \"club\": \"Mr. Hi\", \"favorite_color\": \"blue\", \"community\": 2, \"x\": 0.6459815743400096, \"y\": -0.29621275758046883}, {\"node_id\": 11, \"club\": \"Mr. Hi\", \"favorite_color\": \"blue\", \"community\": 2, \"x\": 0.5505373873092507, \"y\": -0.5130591430016437}, {\"node_id\": 12, \"club\": \"Mr. Hi\", \"favorite_color\": \"blue\", \"community\": 1, \"x\": 0.42520718341092395, \"y\": -0.38386027746308954}, {\"node_id\": 13, \"club\": \"Mr. Hi\", \"favorite_color\": \"yellow\", \"community\": 1, \"x\": 0.10794650075987142, \"y\": -0.025680118738494673}, {\"node_id\": 14, \"club\": \"Officer\", \"favorite_color\": \"blue\", \"community\": 0, \"x\": -0.36515737163292256, \"y\": 0.5169759330093899}, {\"node_id\": 15, \"club\": \"Officer\", \"favorite_color\": \"blue\", \"community\": 0, \"x\": -0.16886211880757315, \"y\": 0.5309904440312566}, {\"node_id\": 16, \"club\": \"Mr. Hi\", \"favorite_color\": \"blue\", \"community\": 2, \"x\": 1.0, \"y\": -0.10271434639521895}, {\"node_id\": 17, \"club\": \"Mr. Hi\", \"favorite_color\": \"blue\", \"community\": 1, \"x\": 0.29513126741336065, \"y\": -0.4455183209470868}, {\"node_id\": 18, \"club\": \"Officer\", \"favorite_color\": \"blue\", \"community\": 0, \"x\": -0.0823953867901413, \"y\": 0.46329826456607837}, {\"node_id\": 19, \"club\": \"Mr. Hi\", \"favorite_color\": \"yellow\", \"community\": 2, \"x\": 0.033965107486937984, \"y\": -0.03473617152093631}, {\"node_id\": 20, \"club\": \"Officer\", \"favorite_color\": \"blue\", \"community\": 0, \"x\": -0.4373935534818169, \"y\": 0.44986088293212084}, {\"node_id\": 21, \"club\": \"Mr. Hi\", \"favorite_color\": \"blue\", \"community\": 1, \"x\": 0.1870538578259735, \"y\": -0.4863397240555339}, {\"node_id\": 22, \"club\": \"Officer\", \"favorite_color\": \"blue\", \"community\": 0, \"x\": -0.27005437402043186, \"y\": 0.5499357534285217}, {\"node_id\": 23, \"club\": \"Officer\", \"favorite_color\": \"blue\", \"community\": 0, \"x\": -0.5153781747305998, \"y\": 0.16717528538277582}, {\"node_id\": 24, \"club\": \"Officer\", \"favorite_color\": \"blue\", \"community\": 0, \"x\": -0.5532494855818948, \"y\": -0.19510398854478658}, {\"node_id\": 25, \"club\": \"Officer\", \"favorite_color\": \"yellow\", \"community\": 0, \"x\": -0.6101008474193745, \"y\": -0.055281858112894905}, {\"node_id\": 26, \"club\": \"Officer\", \"favorite_color\": \"yellow\", \"community\": 0, \"x\": -0.6156442092294188, \"y\": 0.42956565074705566}, {\"node_id\": 27, \"club\": \"Officer\", \"favorite_color\": \"blue\", \"community\": 0, \"x\": -0.4300608065234504, \"y\": -0.016295695987555293}, {\"node_id\": 28, \"club\": \"Officer\", \"favorite_color\": \"blue\", \"community\": 0, \"x\": -0.29772260694579245, \"y\": 0.044932113517804254}, {\"node_id\": 29, \"club\": \"Officer\", \"favorite_color\": \"blue\", \"community\": 0, \"x\": -0.5087745395572316, \"y\": 0.32689778452517754}, {\"node_id\": 30, \"club\": \"Officer\", \"favorite_color\": \"blue\", \"community\": 0, \"x\": -0.06591308733983348, \"y\": 0.12403368317916881}, {\"node_id\": 31, \"club\": \"Officer\", \"favorite_color\": \"blue\", \"community\": 0, \"x\": -0.23427351245753486, \"y\": -0.04886399242391966}, {\"node_id\": 32, \"club\": \"Officer\", \"favorite_color\": \"blue\", \"community\": 0, \"x\": -0.23778466401391682, \"y\": 0.28893153491173856}, {\"node_id\": 33, \"club\": \"Officer\", \"favorite_color\": \"blue\", \"community\": 0, \"x\": -0.2580789229779227, \"y\": 0.22474466371817298}], \"data-f26cf29f429d93ccb901897dbef5c2fa\": [{\"edge_id\": 0, \"words\": [], \"end\": \"source\", \"node_id\": 0, \"x\": 0.3016413705723825, \"y\": -0.19354973896057806}, {\"edge_id\": 1, \"words\": [\"Vega-Lite\", \"and\", \"Starting\", \"providing\", \"Vega-Lite\"], \"end\": \"source\", \"node_id\": 0, \"x\": 0.3016413705723825, \"y\": -0.19354973896057806}, {\"edge_id\": 2, \"words\": [\"of\", \"visualization.\", \"declarative\"], \"end\": \"source\", \"node_id\": 0, \"x\": 0.3016413705723825, \"y\": -0.19354973896057806}, {\"edge_id\": 3, \"words\": [\"contrast\", \"branches\", \"grammar\", \"a\", \"and\"], \"end\": \"source\", \"node_id\": 0, \"x\": 0.3016413705723825, \"y\": -0.19354973896057806}, {\"edge_id\": 4, \"words\": [\"Vega\\u2019s\", \"on\", \"both\", \"techniques.We\", \"and\", \"combines\"], \"end\": \"source\", \"node_id\": 0, \"x\": 0.3016413705723825, \"y\": -0.19354973896057806}, {\"edge_id\": 5, \"words\": [\"studies\", \"or\"], \"end\": \"source\", \"node_id\": 0, \"x\": 0.3016413705723825, \"y\": -0.19354973896057806}, {\"edge_id\": 6, \"words\": [], \"end\": \"source\", \"node_id\": 0, \"x\": 0.3016413705723825, \"y\": -0.19354973896057806}, {\"edge_id\": 7, \"words\": [\"specifications,\"], \"end\": \"source\", \"node_id\": 0, \"x\": 0.3016413705723825, \"y\": -0.19354973896057806}, {\"edge_id\": 8, \"words\": [\"decompose\", \"encapsulated\", \"feed\", \"interest,\", \"automatically\"], \"end\": \"source\", \"node_id\": 0, \"x\": 0.3016413705723825, \"y\": -0.19354973896057806}, {\"edge_id\": 9, \"words\": [\"visualization\", \"fashion.\", \"users\", \"may\", \"in\", \"interactive\", \"event\"], \"end\": \"source\", \"node_id\": 0, \"x\": 0.3016413705723825, \"y\": -0.19354973896057806}, {\"edge_id\": 10, \"words\": [\"novel\", \"interactive\", \"techniques.\"], \"end\": \"source\", \"node_id\": 0, \"x\": 0.3016413705723825, \"y\": -0.19354973896057806}, {\"edge_id\": 11, \"words\": [\"to\", \"both\", \"queries\", \"of\"], \"end\": \"source\", \"node_id\": 0, \"x\": 0.3016413705723825, \"y\": -0.19354973896057806}, {\"edge_id\": 12, \"words\": [\"we\", \"we\", \"queries\", \"the\", \"higher-level\", \"scale\", \"time-varying\"], \"end\": \"source\", \"node_id\": 0, \"x\": 0.3016413705723825, \"y\": -0.19354973896057806}, {\"edge_id\": 13, \"words\": [\"through\", \"of\", \"encapsulated\", \"defines\", \"imperative\"], \"end\": \"source\", \"node_id\": 0, \"x\": 0.3016413705723825, \"y\": -0.19354973896057806}, {\"edge_id\": 14, \"words\": [\"of\", \"selections.\", \"for\", \"level\"], \"end\": \"source\", \"node_id\": 0, \"x\": 0.3016413705723825, \"y\": -0.19354973896057806}, {\"edge_id\": 15, \"words\": [], \"end\": \"source\", \"node_id\": 0, \"x\": 0.3016413705723825, \"y\": -0.19354973896057806}, {\"edge_id\": 16, \"words\": [\"interaction.\", \"event\", \"Vega\"], \"end\": \"source\", \"node_id\": 1, \"x\": 0.107552749710505, \"y\": -0.21161661914071375}, {\"edge_id\": 17, \"words\": [\"queries\", \"queries\", \"with\", \"composable\", \"facilitate\", \"composition\"], \"end\": \"source\", \"node_id\": 1, \"x\": 0.107552749710505, \"y\": -0.21161661914071375}, {\"edge_id\": 18, \"words\": [\"Reactive\", \"as\"], \"end\": \"source\", \"node_id\": 1, \"x\": 0.107552749710505, \"y\": -0.21161661914071375}, {\"edge_id\": 19, \"words\": [\"users\", \"benchmark\", \"optimizations.\", \"grammar\"], \"end\": \"source\", \"node_id\": 1, \"x\": 0.107552749710505, \"y\": -0.21161661914071375}, {\"edge_id\": 20, \"words\": [\"expressive\", \"use\", \"or\", \"handlers\", \"graph\", \"However,\"], \"end\": \"source\", \"node_id\": 1, \"x\": 0.107552749710505, \"y\": -0.21161661914071375}, {\"edge_id\": 21, \"words\": [\"semantic\", \"panning,\", \"linked\", \"by\", \"handlers\"], \"end\": \"source\", \"node_id\": 1, \"x\": 0.107552749710505, \"y\": -0.21161661914071375}, {\"edge_id\": 22, \"words\": [\"in\", \"form\"], \"end\": \"source\", \"node_id\": 1, \"x\": 0.107552749710505, \"y\": -0.21161661914071375}, {\"edge_id\": 23, \"words\": [\"declarative\", \"visual\", \"first\", \"feasibility\", \"and\", \"of\", \"The\"], \"end\": \"source\", \"node_id\": 1, \"x\": 0.107552749710505, \"y\": -0.21161661914071375}, {\"edge_id\": 24, \"words\": [\"data,\", \"Adopting\", \"override\", \"of\", \"interactive\", \"across\", \"of\"], \"end\": \"source\", \"node_id\": 2, \"x\": -0.06998924431756955, \"y\": -0.08604635965982046}, {\"edge_id\": 25, \"words\": [\"range\", \"handling\", \"sources.\", \"hierarchical\", \"Reactive\", \"from\", \"high-level\"], \"end\": \"source\", \"node_id\": 2, \"x\": -0.06998924431756955, \"y\": -0.08604635965982046}, {\"edge_id\": 26, \"words\": [\"to\", \"interactive\", \"as\", \"can\", \"and\"], \"end\": \"source\", \"node_id\": 2, \"x\": -0.06998924431756955, \"y\": -0.08604635965982046}, {\"edge_id\": 27, \"words\": [], \"end\": \"source\", \"node_id\": 2, \"x\": -0.06998924431756955, \"y\": -0.08604635965982046}, {\"edge_id\": 28, \"words\": [\"Signals\", \"a\", \"as\"], \"end\": \"source\", \"node_id\": 2, \"x\": -0.06998924431756955, \"y\": -0.08604635965982046}, {\"edge_id\": 29, \"words\": [\"run-time\", \"demonstrate\", \"to\", \"conditional\", \"declarative\"], \"end\": \"source\", \"node_id\": 2, \"x\": -0.06998924431756955, \"y\": -0.08604635965982046}, {\"edge_id\": 30, \"words\": [\"providing\"], \"end\": \"source\", \"node_id\": 2, \"x\": -0.06998924431756955, \"y\": -0.08604635965982046}, {\"edge_id\": 31, \"words\": [\"In\", \"layered\", \"interaction\", \"visualizations.\", \"graphics,\"], \"end\": \"source\", \"node_id\": 2, \"x\": -0.06998924431756955, \"y\": -0.08604635965982046}, {\"edge_id\": 32, \"words\": [], \"end\": \"source\", \"node_id\": 3, \"x\": 0.19488950895957102, \"y\": -0.25013001167747456}, {\"edge_id\": 33, \"words\": [\"run-time\", \"that\", \"and\", \"first-class\", \"rely\"], \"end\": \"source\", \"node_id\": 3, \"x\": 0.19488950895957102, \"y\": -0.25013001167747456}, {\"edge_id\": 34, \"words\": [\"Vega\", \"Starting\"], \"end\": \"source\", \"node_id\": 3, \"x\": 0.19488950895957102, \"y\": -0.25013001167747456}, {\"edge_id\": 35, \"words\": [\"contrast\", \"declarative\", \"is\"], \"end\": \"source\", \"node_id\": 4, \"x\": 0.6078451617399153, \"y\": -0.1467541969964921}, {\"edge_id\": 36, \"words\": [], \"end\": \"source\", \"node_id\": 4, \"x\": 0.6078451617399153, \"y\": -0.1467541969964921}, {\"edge_id\": 37, \"words\": [\"of\", \"such\", \"results\"], \"end\": \"source\", \"node_id\": 5, \"x\": 0.7545114799098928, \"y\": -0.20074479509120133}, {\"edge_id\": 38, \"words\": [], \"end\": \"source\", \"node_id\": 5, \"x\": 0.7545114799098928, \"y\": -0.20074479509120133}, {\"edge_id\": 39, \"words\": [\"visualization\\u2019s\", \"In\", \"Vega,\", \"declarative\", \"indicate\", \"fashion.\", \"by\"], \"end\": \"source\", \"node_id\": 5, \"x\": 0.7545114799098928, \"y\": -0.20074479509120133}, {\"edge_id\": 40, \"words\": [\"as\", \"a\", \"an\", \"streams\", \"manipulate\", \"processing,\", \"the\"], \"end\": \"source\", \"node_id\": 6, \"x\": 0.7292096292526661, \"y\": -0.08404966121176405}, {\"edge_id\": 41, \"words\": [\"and\"], \"end\": \"source\", \"node_id\": 8, \"x\": 0.03328234650082275, \"y\": 0.12003813731898016}, {\"edge_id\": 42, \"words\": [\"methods\"], \"end\": \"source\", \"node_id\": 8, \"x\": 0.03328234650082275, \"y\": 0.12003813731898016}, {\"edge_id\": 43, \"words\": [], \"end\": \"source\", \"node_id\": 8, \"x\": 0.03328234650082275, \"y\": 0.12003813731898016}, {\"edge_id\": 44, \"words\": [\"which\"], \"end\": \"source\", \"node_id\": 9, \"x\": -0.3259509033754255, \"y\": -0.12205830791328076}, {\"edge_id\": 45, \"words\": [], \"end\": \"source\", \"node_id\": 13, \"x\": 0.10794650075987142, \"y\": -0.025680118738494673}, {\"edge_id\": 46, \"words\": [\"for\", \"interaction\", \"with\", \"we\", \"model\"], \"end\": \"source\", \"node_id\": 14, \"x\": -0.36515737163292256, \"y\": 0.5169759330093899}, {\"edge_id\": 47, \"words\": [\"primarily\", \"interaction\", \"composable\", \"defines\", \"Declarative\", \"pruning\"], \"end\": \"source\", \"node_id\": 14, \"x\": -0.36515737163292256, \"y\": 0.5169759330093899}, {\"edge_id\": 48, \"words\": [\"event\", \"Vega-Lite\", \"a\", \"such\"], \"end\": \"source\", \"node_id\": 15, \"x\": -0.16886211880757315, \"y\": 0.5309904440312566}, {\"edge_id\": 49, \"words\": [], \"end\": \"source\", \"node_id\": 15, \"x\": -0.16886211880757315, \"y\": 0.5309904440312566}, {\"edge_id\": 50, \"words\": [\"or\"], \"end\": \"source\", \"node_id\": 18, \"x\": -0.0823953867901413, \"y\": 0.46329826456607837}, {\"edge_id\": 51, \"words\": [\"behaviors.\", \"we\", \"events\", \"We\", \"that\", \"and\", \"and\"], \"end\": \"source\", \"node_id\": 18, \"x\": -0.0823953867901413, \"y\": 0.46329826456607837}, {\"edge_id\": 52, \"words\": [\"diverse\"], \"end\": \"source\", \"node_id\": 19, \"x\": 0.033965107486937984, \"y\": -0.03473617152093631}, {\"edge_id\": 53, \"words\": [\"visualization\", \"then\"], \"end\": \"source\", \"node_id\": 20, \"x\": -0.4373935534818169, \"y\": 0.44986088293212084}, {\"edge_id\": 54, \"words\": [\"treated\", \"from\", \"level\", \"layered\"], \"end\": \"source\", \"node_id\": 20, \"x\": -0.4373935534818169, \"y\": 0.44986088293212084}, {\"edge_id\": 55, \"words\": [\"the\", \"Selections\", \"interactive\"], \"end\": \"source\", \"node_id\": 22, \"x\": -0.27005437402043186, \"y\": 0.5499357534285217}, {\"edge_id\": 56, \"words\": [\"of\", \"Signals\", \"encodings\", \"of\", \"succinct\"], \"end\": \"source\", \"node_id\": 22, \"x\": -0.27005437402043186, \"y\": 0.5499357534285217}, {\"edge_id\": 57, \"words\": [], \"end\": \"source\", \"node_id\": 23, \"x\": -0.5153781747305998, \"y\": 0.16717528538277582}, {\"edge_id\": 58, \"words\": [\"demonstrating\", \"can\"], \"end\": \"source\", \"node_id\": 23, \"x\": -0.5153781747305998, \"y\": 0.16717528538277582}, {\"edge_id\": 59, \"words\": [\"extensions\", \"a\"], \"end\": \"source\", \"node_id\": 23, \"x\": -0.5153781747305998, \"y\": 0.16717528538277582}, {\"edge_id\": 60, \"words\": [\"expressive\", \"parameterize\", \"which\", \"existing\"], \"end\": \"source\", \"node_id\": 23, \"x\": -0.5153781747305998, \"y\": 0.16717528538277582}, {\"edge_id\": 61, \"words\": [\"performance\", \"as\"], \"end\": \"source\", \"node_id\": 23, \"x\": -0.5153781747305998, \"y\": 0.16717528538277582}, {\"edge_id\": 62, \"words\": [\"for\", \"interaction\"], \"end\": \"source\", \"node_id\": 24, \"x\": -0.5532494855818948, \"y\": -0.19510398854478658}, {\"edge_id\": 63, \"words\": [\"dynamically\", \"customization.\", \"data\"], \"end\": \"source\", \"node_id\": 24, \"x\": -0.5532494855818948, \"y\": -0.19510398854478658}, {\"edge_id\": 64, \"words\": [\"composing\", \"declarative\"], \"end\": \"source\", \"node_id\": 24, \"x\": -0.5532494855818948, \"y\": -0.19510398854478658}, {\"edge_id\": 65, \"words\": [\"zooming,\", \"Vega-Lite\", \"synthesizes\", \"which\", \"low-level\", \"grammars\", \"these\"], \"end\": \"source\", \"node_id\": 25, \"x\": -0.6101008474193745, \"y\": -0.055281858112894905}, {\"edge_id\": 66, \"words\": [\"that\"], \"end\": \"source\", \"node_id\": 26, \"x\": -0.6156442092294188, \"y\": 0.42956565074705566}, {\"edge_id\": 67, \"words\": [], \"end\": \"source\", \"node_id\": 26, \"x\": -0.6156442092294188, \"y\": 0.42956565074705566}, {\"edge_id\": 68, \"words\": [\"behaviors.\", \"established\"], \"end\": \"source\", \"node_id\": 27, \"x\": -0.4300608065234504, \"y\": -0.016295695987555293}, {\"edge_id\": 69, \"words\": [\"our\", \"involve\", \"provides\", \"expressive\", \"visualization\", \"share\"], \"end\": \"source\", \"node_id\": 28, \"x\": -0.29772260694579245, \"y\": 0.044932113517804254}, {\"edge_id\": 70, \"words\": [\"for\", \"of\", \"the\", \"data\", \"the\", \"languages\", \"visual\"], \"end\": \"source\", \"node_id\": 28, \"x\": -0.29772260694579245, \"y\": 0.044932113517804254}, {\"edge_id\": 71, \"words\": [\"scale\", \"interaction\", \"high-level\", \"predicate\", \"interaction\"], \"end\": \"source\", \"node_id\": 29, \"x\": -0.5087745395572316, \"y\": 0.32689778452517754}, {\"edge_id\": 72, \"words\": [\"results\", \"visualization\\u2019s\", \"enables\", \"further\", \"fashion.\", \"that\"], \"end\": \"source\", \"node_id\": 29, \"x\": -0.5087745395572316, \"y\": 0.32689778452517754}, {\"edge_id\": 73, \"words\": [\"into\", \"by\", \"from\", \"We\", \"on\", \"first-class\", \"for\"], \"end\": \"source\", \"node_id\": 30, \"x\": -0.06591308733983348, \"y\": 0.12403368317916881}, {\"edge_id\": 74, \"words\": [], \"end\": \"source\", \"node_id\": 30, \"x\": -0.06591308733983348, \"y\": 0.12403368317916881}, {\"edge_id\": 75, \"words\": [\"to\", \"a\", \"a\", \"are\", \"interest,\", \"D3\", \"interactive\"], \"end\": \"source\", \"node_id\": 31, \"x\": -0.23427351245753486, \"y\": -0.04886399242391966}, {\"edge_id\": 76, \"words\": [\"visualization\\u2019s\", \"interaction\", \"non-reactive\"], \"end\": \"source\", \"node_id\": 31, \"x\": -0.23427351245753486, \"y\": -0.04886399242391966}, {\"edge_id\": 77, \"words\": [\"Vega,\", \"events\", \"Production\", \"interactors:\", \"studies\"], \"end\": \"source\", \"node_id\": 32, \"x\": -0.23778466401391682, \"y\": 0.28893153491173856}, {\"edge_id\": 0, \"words\": [], \"end\": \"target\", \"node_id\": 1, \"x\": 0.107552749710505, \"y\": -0.21161661914071375}, {\"edge_id\": 1, \"words\": [\"Vega-Lite\", \"and\", \"Starting\", \"providing\", \"Vega-Lite\"], \"end\": \"target\", \"node_id\": 2, \"x\": -0.06998924431756955, \"y\": -0.08604635965982046}, {\"edge_id\": 2, \"words\": [\"of\", \"visualization.\", \"declarative\"], \"end\": \"target\", \"node_id\": 3, \"x\": 0.19488950895957102, \"y\": -0.25013001167747456}, {\"edge_id\": 3, \"words\": [\"contrast\", \"branches\", \"grammar\", \"a\", \"and\"], \"end\": \"target\", \"node_id\": 4, \"x\": 0.6078451617399153, \"y\": -0.1467541969964921}, {\"edge_id\": 4, \"words\": [\"Vega\\u2019s\", \"on\", \"both\", \"techniques.We\", \"and\", \"combines\"], \"end\": \"target\", \"node_id\": 5, \"x\": 0.7545114799098928, \"y\": -0.20074479509120133}, {\"edge_id\": 5, \"words\": [\"studies\", \"or\"], \"end\": \"target\", \"node_id\": 6, \"x\": 0.7292096292526661, \"y\": -0.08404966121176405}, {\"edge_id\": 6, \"words\": [], \"end\": \"target\", \"node_id\": 7, \"x\": 0.07202868401076916, \"y\": -0.33876404584528924}, {\"edge_id\": 7, \"words\": [\"specifications,\"], \"end\": \"target\", \"node_id\": 8, \"x\": 0.03328234650082275, \"y\": 0.12003813731898016}, {\"edge_id\": 8, \"words\": [\"decompose\", \"encapsulated\", \"feed\", \"interest,\", \"automatically\"], \"end\": \"target\", \"node_id\": 10, \"x\": 0.6459815743400096, \"y\": -0.29621275758046883}, {\"edge_id\": 9, \"words\": [\"visualization\", \"fashion.\", \"users\", \"may\", \"in\", \"interactive\", \"event\"], \"end\": \"target\", \"node_id\": 11, \"x\": 0.5505373873092507, \"y\": -0.5130591430016437}, {\"edge_id\": 10, \"words\": [\"novel\", \"interactive\", \"techniques.\"], \"end\": \"target\", \"node_id\": 12, \"x\": 0.42520718341092395, \"y\": -0.38386027746308954}, {\"edge_id\": 11, \"words\": [\"to\", \"both\", \"queries\", \"of\"], \"end\": \"target\", \"node_id\": 13, \"x\": 0.10794650075987142, \"y\": -0.025680118738494673}, {\"edge_id\": 12, \"words\": [\"we\", \"we\", \"queries\", \"the\", \"higher-level\", \"scale\", \"time-varying\"], \"end\": \"target\", \"node_id\": 17, \"x\": 0.29513126741336065, \"y\": -0.4455183209470868}, {\"edge_id\": 13, \"words\": [\"through\", \"of\", \"encapsulated\", \"defines\", \"imperative\"], \"end\": \"target\", \"node_id\": 19, \"x\": 0.033965107486937984, \"y\": -0.03473617152093631}, {\"edge_id\": 14, \"words\": [\"of\", \"selections.\", \"for\", \"level\"], \"end\": \"target\", \"node_id\": 21, \"x\": 0.1870538578259735, \"y\": -0.4863397240555339}, {\"edge_id\": 15, \"words\": [], \"end\": \"target\", \"node_id\": 31, \"x\": -0.23427351245753486, \"y\": -0.04886399242391966}, {\"edge_id\": 16, \"words\": [\"interaction.\", \"event\", \"Vega\"], \"end\": \"target\", \"node_id\": 2, \"x\": -0.06998924431756955, \"y\": -0.08604635965982046}, {\"edge_id\": 17, \"words\": [\"queries\", \"queries\", \"with\", \"composable\", \"facilitate\", \"composition\"], \"end\": \"target\", \"node_id\": 3, \"x\": 0.19488950895957102, \"y\": -0.25013001167747456}, {\"edge_id\": 18, \"words\": [\"Reactive\", \"as\"], \"end\": \"target\", \"node_id\": 7, \"x\": 0.07202868401076916, \"y\": -0.33876404584528924}, {\"edge_id\": 19, \"words\": [\"users\", \"benchmark\", \"optimizations.\", \"grammar\"], \"end\": \"target\", \"node_id\": 13, \"x\": 0.10794650075987142, \"y\": -0.025680118738494673}, {\"edge_id\": 20, \"words\": [\"expressive\", \"use\", \"or\", \"handlers\", \"graph\", \"However,\"], \"end\": \"target\", \"node_id\": 17, \"x\": 0.29513126741336065, \"y\": -0.4455183209470868}, {\"edge_id\": 21, \"words\": [\"semantic\", \"panning,\", \"linked\", \"by\", \"handlers\"], \"end\": \"target\", \"node_id\": 19, \"x\": 0.033965107486937984, \"y\": -0.03473617152093631}, {\"edge_id\": 22, \"words\": [\"in\", \"form\"], \"end\": \"target\", \"node_id\": 21, \"x\": 0.1870538578259735, \"y\": -0.4863397240555339}, {\"edge_id\": 23, \"words\": [\"declarative\", \"visual\", \"first\", \"feasibility\", \"and\", \"of\", \"The\"], \"end\": \"target\", \"node_id\": 30, \"x\": -0.06591308733983348, \"y\": 0.12403368317916881}, {\"edge_id\": 24, \"words\": [\"data,\", \"Adopting\", \"override\", \"of\", \"interactive\", \"across\", \"of\"], \"end\": \"target\", \"node_id\": 3, \"x\": 0.19488950895957102, \"y\": -0.25013001167747456}, {\"edge_id\": 25, \"words\": [\"range\", \"handling\", \"sources.\", \"hierarchical\", \"Reactive\", \"from\", \"high-level\"], \"end\": \"target\", \"node_id\": 7, \"x\": 0.07202868401076916, \"y\": -0.33876404584528924}, {\"edge_id\": 26, \"words\": [\"to\", \"interactive\", \"as\", \"can\", \"and\"], \"end\": \"target\", \"node_id\": 8, \"x\": 0.03328234650082275, \"y\": 0.12003813731898016}, {\"edge_id\": 27, \"words\": [], \"end\": \"target\", \"node_id\": 9, \"x\": -0.3259509033754255, \"y\": -0.12205830791328076}, {\"edge_id\": 28, \"words\": [\"Signals\", \"a\", \"as\"], \"end\": \"target\", \"node_id\": 13, \"x\": 0.10794650075987142, \"y\": -0.025680118738494673}, {\"edge_id\": 29, \"words\": [\"run-time\", \"demonstrate\", \"to\", \"conditional\", \"declarative\"], \"end\": \"target\", \"node_id\": 27, \"x\": -0.4300608065234504, \"y\": -0.016295695987555293}, {\"edge_id\": 30, \"words\": [\"providing\"], \"end\": \"target\", \"node_id\": 28, \"x\": -0.29772260694579245, \"y\": 0.044932113517804254}, {\"edge_id\": 31, \"words\": [\"In\", \"layered\", \"interaction\", \"visualizations.\", \"graphics,\"], \"end\": \"target\", \"node_id\": 32, \"x\": -0.23778466401391682, \"y\": 0.28893153491173856}, {\"edge_id\": 32, \"words\": [], \"end\": \"target\", \"node_id\": 7, \"x\": 0.07202868401076916, \"y\": -0.33876404584528924}, {\"edge_id\": 33, \"words\": [\"run-time\", \"that\", \"and\", \"first-class\", \"rely\"], \"end\": \"target\", \"node_id\": 12, \"x\": 0.42520718341092395, \"y\": -0.38386027746308954}, {\"edge_id\": 34, \"words\": [\"Vega\", \"Starting\"], \"end\": \"target\", \"node_id\": 13, \"x\": 0.10794650075987142, \"y\": -0.025680118738494673}, {\"edge_id\": 35, \"words\": [\"contrast\", \"declarative\", \"is\"], \"end\": \"target\", \"node_id\": 6, \"x\": 0.7292096292526661, \"y\": -0.08404966121176405}, {\"edge_id\": 36, \"words\": [], \"end\": \"target\", \"node_id\": 10, \"x\": 0.6459815743400096, \"y\": -0.29621275758046883}, {\"edge_id\": 37, \"words\": [\"of\", \"such\", \"results\"], \"end\": \"target\", \"node_id\": 6, \"x\": 0.7292096292526661, \"y\": -0.08404966121176405}, {\"edge_id\": 38, \"words\": [], \"end\": \"target\", \"node_id\": 10, \"x\": 0.6459815743400096, \"y\": -0.29621275758046883}, {\"edge_id\": 39, \"words\": [\"visualization\\u2019s\", \"In\", \"Vega,\", \"declarative\", \"indicate\", \"fashion.\", \"by\"], \"end\": \"target\", \"node_id\": 16, \"x\": 1.0, \"y\": -0.10271434639521895}, {\"edge_id\": 40, \"words\": [\"as\", \"a\", \"an\", \"streams\", \"manipulate\", \"processing,\", \"the\"], \"end\": \"target\", \"node_id\": 16, \"x\": 1.0, \"y\": -0.10271434639521895}, {\"edge_id\": 41, \"words\": [\"and\"], \"end\": \"target\", \"node_id\": 30, \"x\": -0.06591308733983348, \"y\": 0.12403368317916881}, {\"edge_id\": 42, \"words\": [\"methods\"], \"end\": \"target\", \"node_id\": 32, \"x\": -0.23778466401391682, \"y\": 0.28893153491173856}, {\"edge_id\": 43, \"words\": [], \"end\": \"target\", \"node_id\": 33, \"x\": -0.2580789229779227, \"y\": 0.22474466371817298}, {\"edge_id\": 44, \"words\": [\"which\"], \"end\": \"target\", \"node_id\": 33, \"x\": -0.2580789229779227, \"y\": 0.22474466371817298}, {\"edge_id\": 45, \"words\": [], \"end\": \"target\", \"node_id\": 33, \"x\": -0.2580789229779227, \"y\": 0.22474466371817298}, {\"edge_id\": 46, \"words\": [\"for\", \"interaction\", \"with\", \"we\", \"model\"], \"end\": \"target\", \"node_id\": 32, \"x\": -0.23778466401391682, \"y\": 0.28893153491173856}, {\"edge_id\": 47, \"words\": [\"primarily\", \"interaction\", \"composable\", \"defines\", \"Declarative\", \"pruning\"], \"end\": \"target\", \"node_id\": 33, \"x\": -0.2580789229779227, \"y\": 0.22474466371817298}, {\"edge_id\": 48, \"words\": [\"event\", \"Vega-Lite\", \"a\", \"such\"], \"end\": \"target\", \"node_id\": 32, \"x\": -0.23778466401391682, \"y\": 0.28893153491173856}, {\"edge_id\": 49, \"words\": [], \"end\": \"target\", \"node_id\": 33, \"x\": -0.2580789229779227, \"y\": 0.22474466371817298}, {\"edge_id\": 50, \"words\": [\"or\"], \"end\": \"target\", \"node_id\": 32, \"x\": -0.23778466401391682, \"y\": 0.28893153491173856}, {\"edge_id\": 51, \"words\": [\"behaviors.\", \"we\", \"events\", \"We\", \"that\", \"and\", \"and\"], \"end\": \"target\", \"node_id\": 33, \"x\": -0.2580789229779227, \"y\": 0.22474466371817298}, {\"edge_id\": 52, \"words\": [\"diverse\"], \"end\": \"target\", \"node_id\": 33, \"x\": -0.2580789229779227, \"y\": 0.22474466371817298}, {\"edge_id\": 53, \"words\": [\"visualization\", \"then\"], \"end\": \"target\", \"node_id\": 32, \"x\": -0.23778466401391682, \"y\": 0.28893153491173856}, {\"edge_id\": 54, \"words\": [\"treated\", \"from\", \"level\", \"layered\"], \"end\": \"target\", \"node_id\": 33, \"x\": -0.2580789229779227, \"y\": 0.22474466371817298}, {\"edge_id\": 55, \"words\": [\"the\", \"Selections\", \"interactive\"], \"end\": \"target\", \"node_id\": 32, \"x\": -0.23778466401391682, \"y\": 0.28893153491173856}, {\"edge_id\": 56, \"words\": [\"of\", \"Signals\", \"encodings\", \"of\", \"succinct\"], \"end\": \"target\", \"node_id\": 33, \"x\": -0.2580789229779227, \"y\": 0.22474466371817298}, {\"edge_id\": 57, \"words\": [], \"end\": \"target\", \"node_id\": 25, \"x\": -0.6101008474193745, \"y\": -0.055281858112894905}, {\"edge_id\": 58, \"words\": [\"demonstrating\", \"can\"], \"end\": \"target\", \"node_id\": 27, \"x\": -0.4300608065234504, \"y\": -0.016295695987555293}, {\"edge_id\": 59, \"words\": [\"extensions\", \"a\"], \"end\": \"target\", \"node_id\": 29, \"x\": -0.5087745395572316, \"y\": 0.32689778452517754}, {\"edge_id\": 60, \"words\": [\"expressive\", \"parameterize\", \"which\", \"existing\"], \"end\": \"target\", \"node_id\": 32, \"x\": -0.23778466401391682, \"y\": 0.28893153491173856}, {\"edge_id\": 61, \"words\": [\"performance\", \"as\"], \"end\": \"target\", \"node_id\": 33, \"x\": -0.2580789229779227, \"y\": 0.22474466371817298}, {\"edge_id\": 62, \"words\": [\"for\", \"interaction\"], \"end\": \"target\", \"node_id\": 25, \"x\": -0.6101008474193745, \"y\": -0.055281858112894905}, {\"edge_id\": 63, \"words\": [\"dynamically\", \"customization.\", \"data\"], \"end\": \"target\", \"node_id\": 27, \"x\": -0.4300608065234504, \"y\": -0.016295695987555293}, {\"edge_id\": 64, \"words\": [\"composing\", \"declarative\"], \"end\": \"target\", \"node_id\": 31, \"x\": -0.23427351245753486, \"y\": -0.04886399242391966}, {\"edge_id\": 65, \"words\": [\"zooming,\", \"Vega-Lite\", \"synthesizes\", \"which\", \"low-level\", \"grammars\", \"these\"], \"end\": \"target\", \"node_id\": 31, \"x\": -0.23427351245753486, \"y\": -0.04886399242391966}, {\"edge_id\": 66, \"words\": [\"that\"], \"end\": \"target\", \"node_id\": 29, \"x\": -0.5087745395572316, \"y\": 0.32689778452517754}, {\"edge_id\": 67, \"words\": [], \"end\": \"target\", \"node_id\": 33, \"x\": -0.2580789229779227, \"y\": 0.22474466371817298}, {\"edge_id\": 68, \"words\": [\"behaviors.\", \"established\"], \"end\": \"target\", \"node_id\": 33, \"x\": -0.2580789229779227, \"y\": 0.22474466371817298}, {\"edge_id\": 69, \"words\": [\"our\", \"involve\", \"provides\", \"expressive\", \"visualization\", \"share\"], \"end\": \"target\", \"node_id\": 31, \"x\": -0.23427351245753486, \"y\": -0.04886399242391966}, {\"edge_id\": 70, \"words\": [\"for\", \"of\", \"the\", \"data\", \"the\", \"languages\", \"visual\"], \"end\": \"target\", \"node_id\": 33, \"x\": -0.2580789229779227, \"y\": 0.22474466371817298}, {\"edge_id\": 71, \"words\": [\"scale\", \"interaction\", \"high-level\", \"predicate\", \"interaction\"], \"end\": \"target\", \"node_id\": 32, \"x\": -0.23778466401391682, \"y\": 0.28893153491173856}, {\"edge_id\": 72, \"words\": [\"results\", \"visualization\\u2019s\", \"enables\", \"further\", \"fashion.\", \"that\"], \"end\": \"target\", \"node_id\": 33, \"x\": -0.2580789229779227, \"y\": 0.22474466371817298}, {\"edge_id\": 73, \"words\": [\"into\", \"by\", \"from\", \"We\", \"on\", \"first-class\", \"for\"], \"end\": \"target\", \"node_id\": 32, \"x\": -0.23778466401391682, \"y\": 0.28893153491173856}, {\"edge_id\": 74, \"words\": [], \"end\": \"target\", \"node_id\": 33, \"x\": -0.2580789229779227, \"y\": 0.22474466371817298}, {\"edge_id\": 75, \"words\": [\"to\", \"a\", \"a\", \"are\", \"interest,\", \"D3\", \"interactive\"], \"end\": \"target\", \"node_id\": 32, \"x\": -0.23778466401391682, \"y\": 0.28893153491173856}, {\"edge_id\": 76, \"words\": [\"visualization\\u2019s\", \"interaction\", \"non-reactive\"], \"end\": \"target\", \"node_id\": 33, \"x\": -0.2580789229779227, \"y\": 0.22474466371817298}, {\"edge_id\": 77, \"words\": [\"Vega,\", \"events\", \"Production\", \"interactors:\", \"studies\"], \"end\": \"target\", \"node_id\": 33, \"x\": -0.2580789229779227, \"y\": 0.22474466371817298}]}}, {\"mode\": \"vega-lite\"});\n",
       "</script>"
      ],
      "text/plain": [
       "alt.LayerChart(...)"
      ]
     },
     "execution_count": 8,
     "metadata": {},
     "output_type": "execute_result"
    }
   ],
   "source": [
    "nodes = alt.Chart(node_data).mark_point(\n",
    "    size=200, \n",
    ").encode(\n",
    "    x='x:Q',\n",
    "    y='y:Q',\n",
    "    tooltip=['node_id', 'club'],\n",
    "    fill='community:N'\n",
    ")\n",
    "\n",
    "labels = nodes.mark_text(\n",
    "    align='left',\n",
    "    baseline='middle',\n",
    "    dx=10,\n",
    "    dy=-10\n",
    ").encode(text='node_id')\n",
    "\n",
    "edges = alt.Chart(edge_data).mark_line(    \n",
    ").encode(\n",
    "    x = alt.X('x:Q', axis=None),\n",
    "    y = alt.Y('y:Q', axis=None),\n",
    "    detail='edge_id',\n",
    "    strokeWidth='n_words:Q'\n",
    ")\n",
    "\n",
    "drawing = (\n",
    "    nodes + labels + edges\n",
    ").configure_view(strokeWidth=0)\n",
    "drawing"
   ]
  },
  {
   "cell_type": "code",
   "execution_count": null,
   "metadata": {},
   "outputs": [],
   "source": []
  }
 ],
 "metadata": {
  "kernelspec": {
   "display_name": "graph",
   "language": "python",
   "name": "graph"
  },
  "language_info": {
   "codemirror_mode": {
    "name": "ipython",
    "version": 3
   },
   "file_extension": ".py",
   "mimetype": "text/x-python",
   "name": "python",
   "nbconvert_exporter": "python",
   "pygments_lexer": "ipython3",
   "version": "3.8.5"
  }
 },
 "nbformat": 4,
 "nbformat_minor": 4
}
