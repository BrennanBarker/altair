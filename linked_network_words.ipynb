{
 "cells": [
  {
   "cell_type": "code",
   "execution_count": 1,
   "metadata": {},
   "outputs": [],
   "source": [
    "import networkx as nx"
   ]
  },
  {
   "cell_type": "code",
   "execution_count": 2,
   "metadata": {},
   "outputs": [
    {
     "name": "stderr",
     "output_type": "stream",
     "text": [
      "/home/pi/code/envs/graph/lib/python3.8/site-packages/pandas/compat/__init__.py:97: UserWarning: Could not import the lzma module. Your installed Python is incomplete. Attempting to use lzma compression will result in a RuntimeError.\n",
      "  warnings.warn(msg)\n"
     ]
    }
   ],
   "source": [
    "import random\n",
    "import numpy as np\n",
    "import pandas as pd"
   ]
  },
  {
   "cell_type": "code",
   "execution_count": 3,
   "metadata": {},
   "outputs": [],
   "source": [
    "import altair as alt\n",
    "import nx_altair"
   ]
  },
  {
   "cell_type": "code",
   "execution_count": 4,
   "metadata": {},
   "outputs": [],
   "source": [
    "def alnumspace(string):\n",
    "    return string.isalnum() or string==' '"
   ]
  },
  {
   "cell_type": "code",
   "execution_count": 5,
   "metadata": {},
   "outputs": [],
   "source": [
    "stopwords = \"i|me|my|myself|we|us|our|ours|ourselves|you|your|yours|yourself|yourselves|he|him|his|himself|she|her|hers|herself|it|its|itself|they|them|their|theirs|themselves|what|which|who|whom|whose|this|that|these|those|am|is|are|was|were|be|been|being|have|has|had|having|do|does|did|doing|will|would|should|can|could|ought|i'm|you're|he's|she's|it's|we're|they're|i've|you've|we've|they've|i'd|you'd|he'd|she'd|we'd|they'd|i'll|you'll|he'll|she'll|we'll|they'll|isn't|aren't|wasn't|weren't|hasn't|haven't|hadn't|doesn't|don't|didn't|won't|wouldn't|shan't|shouldn't|can't|cannot|couldn't|mustn't|let's|that's|who's|what's|here's|there's|when's|where's|why's|how's|a|an|the|and|but|if|or|because|as|until|while|of|at|by|for|with|about|against|between|into|through|during|before|after|above|below|to|from|up|upon|down|in|out|on|off|over|under|again|further|then|once|here|there|when|where|why|how|all|any|both|each|few|more|most|other|some|such|no|nor|not|only|own|same|so|than|too|very|say|says|said|shall\"\n",
    "stopwords = set(stopwords.upper().split('|'))\n",
    "wordlist = \"Declarative visualization grammars can accelerate development, facilitate retargeting across platforms, and allow language-level optimizations. However, existing declarative visualization languages are primarily concerned with visual encoding, and rely on imperative event handlers for interactive behaviors. In response, we introduce a model of declarative interaction design for data visualizations. Adopting methods from reactive programming, we model low-level events as composable data streams from which we form higher-level semantic signals. Signals feed predicates and scale inversions, which allow us to generalize interactive selections at the level of item geometry (pixels) into interactive queries over the data domain. Production rules then use these queries to manipulate the visualization’s appearance. To facilitate reuse and sharing, these constructs can be encapsulated as named interactors: standalone, purely declarative specifications of interaction techniques. We assess our model’s feasibility and expressivity by instantiating it with extensions to the Vega visualization grammar. Through a diverse range of examples, we demonstrate coverage over an established taxonomy of visualization interaction techniques.We present Reactive Vega, a system architecture that provides the first robust and comprehensive treatment of declarative visual and interaction design for data visualization. Starting from a single declarative specification, Reactive Vega constructs a dataflow graph in which input data, scene graph elements, and interaction events are all treated as first-class streaming data sources. To support expressive interactive visualizations that may involve time-varying scalar, relational, or hierarchical data, Reactive Vega’s dataflow graph can dynamically re-write itself at runtime by extending or pruning branches in a data-driven fashion. We discuss both compile- and run-time optimizations applied within Reactive Vega, and share the results of benchmark studies that indicate superior interactive performance to both D3 and the original, non-reactive Vega system.We present Vega-Lite, a high-level grammar that enables rapid specification of interactive data visualizations. Vega-Lite combines a traditional grammar of graphics, providing visual encoding rules and a composition algebra for layered and multi-view displays, with a novel grammar of interaction. Users specify interactive semantics by composing selections. In Vega-Lite, a selection is an abstraction that defines input event processing, points of interest, and a predicate function for inclusion testing. Selections parameterize visual encodings by serving as input data, defining scale extents, or by driving conditional logic. The Vega-Lite compiler automatically synthesizes requisite data flow and event handling logic, which users can override for further customization. In contrast to existing reactive specifications, Vega-Lite selections decompose an interaction design into concise, enumerable semantic units. We evaluate Vega-Lite through a range of examples, demonstrating succinct specification of both customized interaction methods and common techniques such as panning, zooming, and linked selection.\"\n",
    "wordlist = [c for c in filter(alnumspace, wordlist)]\n",
    "wordlist = ''.join(wordlist).split(' ')\n",
    "wordlist = [word.upper() for word in wordlist if (word and word.upper() not in stopwords)]"
   ]
  },
  {
   "cell_type": "code",
   "execution_count": 6,
   "metadata": {},
   "outputs": [],
   "source": [
    "from collections import Counter\n",
    "word_counts = Counter(wordlist)"
   ]
  },
  {
   "cell_type": "code",
   "execution_count": 7,
   "metadata": {},
   "outputs": [],
   "source": [
    "wc = pd.DataFrame().from_dict(word_counts, orient='index').reset_index()\n",
    "wc.columns = ['word', 'count']\n",
    "wcfiltered = wc[wc['count']>1]"
   ]
  },
  {
   "cell_type": "code",
   "execution_count": 8,
   "metadata": {},
   "outputs": [],
   "source": [
    "def shuffled_range(n): return random.sample(range(n), k=n)\n",
    "n = len(wcfiltered)\n",
    "x = shuffled_range(n)\n",
    "y = shuffled_range(n)\n",
    "data = wcfiltered.assign(x=x,y=y)"
   ]
  },
  {
   "cell_type": "code",
   "execution_count": 9,
   "metadata": {},
   "outputs": [
    {
     "data": {
      "text/html": [
       "\n",
       "<div id=\"altair-viz-242ed834d6ca49e093fe2def88502848\"></div>\n",
       "<script type=\"text/javascript\">\n",
       "  (function(spec, embedOpt){\n",
       "    let outputDiv = document.currentScript.previousElementSibling;\n",
       "    if (outputDiv.id !== \"altair-viz-242ed834d6ca49e093fe2def88502848\") {\n",
       "      outputDiv = document.getElementById(\"altair-viz-242ed834d6ca49e093fe2def88502848\");\n",
       "    }\n",
       "    const paths = {\n",
       "      \"vega\": \"https://cdn.jsdelivr.net/npm//vega@5?noext\",\n",
       "      \"vega-lib\": \"https://cdn.jsdelivr.net/npm//vega-lib?noext\",\n",
       "      \"vega-lite\": \"https://cdn.jsdelivr.net/npm//vega-lite@4.8.1?noext\",\n",
       "      \"vega-embed\": \"https://cdn.jsdelivr.net/npm//vega-embed@6?noext\",\n",
       "    };\n",
       "\n",
       "    function loadScript(lib) {\n",
       "      return new Promise(function(resolve, reject) {\n",
       "        var s = document.createElement('script');\n",
       "        s.src = paths[lib];\n",
       "        s.async = true;\n",
       "        s.onload = () => resolve(paths[lib]);\n",
       "        s.onerror = () => reject(`Error loading script: ${paths[lib]}`);\n",
       "        document.getElementsByTagName(\"head\")[0].appendChild(s);\n",
       "      });\n",
       "    }\n",
       "\n",
       "    function showError(err) {\n",
       "      outputDiv.innerHTML = `<div class=\"error\" style=\"color:red;\">${err}</div>`;\n",
       "      throw err;\n",
       "    }\n",
       "\n",
       "    function displayChart(vegaEmbed) {\n",
       "      vegaEmbed(outputDiv, spec, embedOpt)\n",
       "        .catch(err => showError(`Javascript Error: ${err.message}<br>This usually means there's a typo in your chart specification. See the javascript console for the full traceback.`));\n",
       "    }\n",
       "\n",
       "    if(typeof define === \"function\" && define.amd) {\n",
       "      requirejs.config({paths});\n",
       "      require([\"vega-embed\"], displayChart, err => showError(`Error loading script: ${err.message}`));\n",
       "    } else if (typeof vegaEmbed === \"function\") {\n",
       "      displayChart(vegaEmbed);\n",
       "    } else {\n",
       "      loadScript(\"vega\")\n",
       "        .then(() => loadScript(\"vega-lite\"))\n",
       "        .then(() => loadScript(\"vega-embed\"))\n",
       "        .catch(showError)\n",
       "        .then(() => displayChart(vegaEmbed));\n",
       "    }\n",
       "  })({\"config\": {\"view\": {\"continuousWidth\": 400, \"continuousHeight\": 300, \"strokeWidth\": 0}}, \"data\": {\"name\": \"data-ed07d0a0e277aeb7c8796b8ae9d9bc56\"}, \"mark\": {\"type\": \"text\", \"baseline\": \"middle\"}, \"encoding\": {\"color\": {\"type\": \"quantitative\", \"field\": \"count\", \"scale\": {\"scheme\": \"goldred\"}}, \"size\": {\"type\": \"quantitative\", \"field\": \"count\", \"legend\": null}, \"text\": {\"type\": \"nominal\", \"field\": \"word\"}, \"x\": {\"type\": \"quantitative\", \"axis\": null, \"field\": \"x\"}, \"y\": {\"type\": \"quantitative\", \"axis\": null, \"field\": \"y\"}}, \"$schema\": \"https://vega.github.io/schema/vega-lite/v4.8.1.json\", \"datasets\": {\"data-ed07d0a0e277aeb7c8796b8ae9d9bc56\": [{\"word\": \"DECLARATIVE\", \"count\": 6, \"x\": 32, \"y\": 8}, {\"word\": \"VISUALIZATION\", \"count\": 5, \"x\": 26, \"y\": 36}, {\"word\": \"FACILITATE\", \"count\": 2, \"x\": 13, \"y\": 9}, {\"word\": \"ALLOW\", \"count\": 2, \"x\": 1, \"y\": 30}, {\"word\": \"OPTIMIZATIONS\", \"count\": 2, \"x\": 17, \"y\": 7}, {\"word\": \"EXISTING\", \"count\": 2, \"x\": 24, \"y\": 13}, {\"word\": \"VISUAL\", \"count\": 4, \"x\": 12, \"y\": 35}, {\"word\": \"ENCODING\", \"count\": 2, \"x\": 3, \"y\": 0}, {\"word\": \"EVENT\", \"count\": 3, \"x\": 38, \"y\": 16}, {\"word\": \"INTERACTIVE\", \"count\": 7, \"x\": 14, \"y\": 20}, {\"word\": \"MODEL\", \"count\": 2, \"x\": 39, \"y\": 1}, {\"word\": \"INTERACTION\", \"count\": 8, \"x\": 40, \"y\": 22}, {\"word\": \"DESIGN\", \"count\": 3, \"x\": 2, \"y\": 28}, {\"word\": \"DATA\", \"count\": 10, \"x\": 8, \"y\": 15}, {\"word\": \"VISUALIZATIONS\", \"count\": 4, \"x\": 23, \"y\": 12}, {\"word\": \"METHODS\", \"count\": 2, \"x\": 22, \"y\": 25}, {\"word\": \"REACTIVE\", \"count\": 6, \"x\": 28, \"y\": 26}, {\"word\": \"EVENTS\", \"count\": 2, \"x\": 34, \"y\": 29}, {\"word\": \"SEMANTIC\", \"count\": 2, \"x\": 25, \"y\": 10}, {\"word\": \"SIGNALS\", \"count\": 2, \"x\": 29, \"y\": 3}, {\"word\": \"SCALE\", \"count\": 2, \"x\": 10, \"y\": 19}, {\"word\": \"SELECTIONS\", \"count\": 4, \"x\": 36, \"y\": 38}, {\"word\": \"QUERIES\", \"count\": 2, \"x\": 27, \"y\": 27}, {\"word\": \"RULES\", \"count\": 2, \"x\": 7, \"y\": 5}, {\"word\": \"CONSTRUCTS\", \"count\": 2, \"x\": 11, \"y\": 6}, {\"word\": \"SPECIFICATIONS\", \"count\": 2, \"x\": 15, \"y\": 34}, {\"word\": \"TECHNIQUES\", \"count\": 2, \"x\": 33, \"y\": 18}, {\"word\": \"VEGA\", \"count\": 5, \"x\": 30, \"y\": 24}, {\"word\": \"GRAMMAR\", \"count\": 4, \"x\": 0, \"y\": 33}, {\"word\": \"RANGE\", \"count\": 2, \"x\": 19, \"y\": 23}, {\"word\": \"EXAMPLES\", \"count\": 2, \"x\": 37, \"y\": 2}, {\"word\": \"PRESENT\", \"count\": 2, \"x\": 21, \"y\": 21}, {\"word\": \"SPECIFICATION\", \"count\": 3, \"x\": 4, \"y\": 14}, {\"word\": \"DATAFLOW\", \"count\": 2, \"x\": 5, \"y\": 32}, {\"word\": \"GRAPH\", \"count\": 3, \"x\": 35, \"y\": 39}, {\"word\": \"INPUT\", \"count\": 3, \"x\": 31, \"y\": 4}, {\"word\": \"RUNTIME\", \"count\": 2, \"x\": 16, \"y\": 17}, {\"word\": \"VEGALITE\", \"count\": 6, \"x\": 18, \"y\": 37}, {\"word\": \"USERS\", \"count\": 2, \"x\": 9, \"y\": 31}, {\"word\": \"SELECTION\", \"count\": 2, \"x\": 20, \"y\": 40}, {\"word\": \"LOGIC\", \"count\": 2, \"x\": 6, \"y\": 11}]}}, {\"mode\": \"vega-lite\"});\n",
       "</script>"
      ],
      "text/plain": [
       "alt.Chart(...)"
      ]
     },
     "execution_count": 9,
     "metadata": {},
     "output_type": "execute_result"
    }
   ],
   "source": [
    "base = alt.Chart(data).encode(\n",
    "    x=alt.X('x:Q', axis=None),\n",
    "    y=alt.Y('y:Q', axis=None)\n",
    ").configure_view(strokeWidth=0)\n",
    "\n",
    "\n",
    "text = base.mark_text(baseline='middle').encode(\n",
    "    text='word:N',\n",
    "    color=alt.Color('count:Q',\n",
    "                    scale=alt.Scale(scheme='goldred'),\n",
    "                   ),\n",
    "    size=alt.Size('count:Q', legend=None)\n",
    ")\n",
    "\n",
    "text"
   ]
  },
  {
   "cell_type": "markdown",
   "metadata": {},
   "source": [
    "## set up graph"
   ]
  },
  {
   "cell_type": "code",
   "execution_count": 11,
   "metadata": {},
   "outputs": [],
   "source": [
    "nodes = [str(n) for n in range(20)]\n",
    "\n",
    "edges = []\n",
    "for n in range(15):\n",
    "    start = np.random.choice(nodes)\n",
    "    end = np.random.choice(list(set(nodes) - {start}))\n",
    "    edges += [(str(start), str(end))]\n",
    "    \n",
    "G = nx.Graph()\n",
    "G.add_nodes_from(nodes)\n",
    "G.add_edges_from(edges)\n",
    "\n",
    "pos = nx.spring_layout(G)"
   ]
  },
  {
   "cell_type": "markdown",
   "metadata": {},
   "source": [
    "add words to graph"
   ]
  },
  {
   "cell_type": "code",
   "execution_count": 12,
   "metadata": {},
   "outputs": [],
   "source": [
    "for edge in G.edges:\n",
    "    G.edges[edge]['words'] = np.random.choice(wordlist, size=np.random.randint(8), replace=False)"
   ]
  },
  {
   "cell_type": "code",
   "execution_count": 15,
   "metadata": {},
   "outputs": [],
   "source": [
    "def get_graph_dfs(G, pos):\n",
    "    node_data = pd.DataFrame.from_dict(pos).transpose()\n",
    "    node_data.columns = 'x', 'y'\n",
    "    node_data['node_id'] = node_data.index\n",
    "    \n",
    "    def get_node_position(end, i):\n",
    "        def f(d): return d[end].apply(lambda r: pos[r][i])\n",
    "        return f\n",
    "\n",
    "    edgelist = nx.to_pandas_edgelist(G)\n",
    "    edge_data = edgelist.assign(\n",
    "        x=get_node_position('source', 0),\n",
    "        y=get_node_position('source', 1),\n",
    "        x2=get_node_position('target', 0),\n",
    "        y2=get_node_position('target', 1),\n",
    "        edge_id = edgelist.index\n",
    "        \n",
    "    )\n",
    "    \n",
    "    return node_data, edge_data"
   ]
  },
  {
   "cell_type": "code",
   "execution_count": 16,
   "metadata": {},
   "outputs": [],
   "source": [
    "node_data, edge_data = get_graph_dfs(G, pos)"
   ]
  },
  {
   "cell_type": "code",
   "execution_count": 35,
   "metadata": {},
   "outputs": [],
   "source": [
    "edge_words_full = edge_data.explode('words').rename(columns={'words':'word'})\n",
    "edge_words = edge_words_full.dropna()"
   ]
  },
  {
   "cell_type": "code",
   "execution_count": 69,
   "metadata": {},
   "outputs": [
    {
     "data": {
      "text/html": [
       "\n",
       "<div id=\"altair-viz-daff0d98937c4d32b889a1752283953f\"></div>\n",
       "<script type=\"text/javascript\">\n",
       "  (function(spec, embedOpt){\n",
       "    let outputDiv = document.currentScript.previousElementSibling;\n",
       "    if (outputDiv.id !== \"altair-viz-daff0d98937c4d32b889a1752283953f\") {\n",
       "      outputDiv = document.getElementById(\"altair-viz-daff0d98937c4d32b889a1752283953f\");\n",
       "    }\n",
       "    const paths = {\n",
       "      \"vega\": \"https://cdn.jsdelivr.net/npm//vega@5?noext\",\n",
       "      \"vega-lib\": \"https://cdn.jsdelivr.net/npm//vega-lib?noext\",\n",
       "      \"vega-lite\": \"https://cdn.jsdelivr.net/npm//vega-lite@4.8.1?noext\",\n",
       "      \"vega-embed\": \"https://cdn.jsdelivr.net/npm//vega-embed@6?noext\",\n",
       "    };\n",
       "\n",
       "    function loadScript(lib) {\n",
       "      return new Promise(function(resolve, reject) {\n",
       "        var s = document.createElement('script');\n",
       "        s.src = paths[lib];\n",
       "        s.async = true;\n",
       "        s.onload = () => resolve(paths[lib]);\n",
       "        s.onerror = () => reject(`Error loading script: ${paths[lib]}`);\n",
       "        document.getElementsByTagName(\"head\")[0].appendChild(s);\n",
       "      });\n",
       "    }\n",
       "\n",
       "    function showError(err) {\n",
       "      outputDiv.innerHTML = `<div class=\"error\" style=\"color:red;\">${err}</div>`;\n",
       "      throw err;\n",
       "    }\n",
       "\n",
       "    function displayChart(vegaEmbed) {\n",
       "      vegaEmbed(outputDiv, spec, embedOpt)\n",
       "        .catch(err => showError(`Javascript Error: ${err.message}<br>This usually means there's a typo in your chart specification. See the javascript console for the full traceback.`));\n",
       "    }\n",
       "\n",
       "    if(typeof define === \"function\" && define.amd) {\n",
       "      requirejs.config({paths});\n",
       "      require([\"vega-embed\"], displayChart, err => showError(`Error loading script: ${err.message}`));\n",
       "    } else if (typeof vegaEmbed === \"function\") {\n",
       "      displayChart(vegaEmbed);\n",
       "    } else {\n",
       "      loadScript(\"vega\")\n",
       "        .then(() => loadScript(\"vega-lite\"))\n",
       "        .then(() => loadScript(\"vega-embed\"))\n",
       "        .catch(showError)\n",
       "        .then(() => displayChart(vegaEmbed));\n",
       "    }\n",
       "  })({\"config\": {\"view\": {\"continuousWidth\": 400, \"continuousHeight\": 300}}, \"hconcat\": [{\"layer\": [{\"data\": {\"name\": \"data-70bc9f34fbb46646c582b763989f35f5\"}, \"mark\": \"line\", \"encoding\": {\"color\": {\"condition\": {\"value\": \"black\", \"selection\": \"selector043\"}, \"value\": \"lightgray\"}, \"x\": {\"type\": \"quantitative\", \"axis\": null, \"field\": \"x\"}, \"x2\": {\"field\": \"x2\"}, \"y\": {\"type\": \"quantitative\", \"axis\": null, \"field\": \"y\"}, \"y2\": {\"field\": \"y2\"}}, \"height\": 750, \"selection\": {\"selector043\": {\"type\": \"interval\", \"empty\": \"none\"}}}, {\"data\": {\"name\": \"data-36790f1485ab0b810123d639f92fe01e\"}, \"mark\": {\"type\": \"point\", \"size\": 100}, \"encoding\": {\"x\": {\"type\": \"quantitative\", \"field\": \"x\"}, \"y\": {\"type\": \"quantitative\", \"field\": \"y\"}}}, {\"data\": {\"name\": \"data-36790f1485ab0b810123d639f92fe01e\"}, \"mark\": {\"type\": \"text\", \"align\": \"left\", \"baseline\": \"middle\", \"dx\": 7}, \"encoding\": {\"text\": {\"type\": \"nominal\", \"field\": \"node_id\"}, \"x\": {\"type\": \"quantitative\", \"field\": \"x\"}, \"y\": {\"type\": \"quantitative\", \"field\": \"y\"}}}]}, {\"layer\": [{\"mark\": \"bar\", \"encoding\": {\"color\": {\"value\": \"lightgray\"}, \"x\": {\"type\": \"quantitative\", \"aggregate\": \"count\", \"field\": \"word\"}, \"y\": {\"type\": \"nominal\", \"field\": \"word\"}}, \"height\": 750, \"width\": 50}, {\"mark\": \"bar\", \"encoding\": {\"color\": {\"value\": \"1f77b4\"}, \"x\": {\"type\": \"quantitative\", \"aggregate\": \"count\", \"field\": \"word\"}, \"y\": {\"type\": \"nominal\", \"field\": \"word\"}}, \"height\": 750, \"transform\": [{\"filter\": {\"selection\": \"selector043\"}}], \"width\": 50}], \"data\": {\"name\": \"data-d7405e98dd21b02ce832688ea90a496e\"}}], \"$schema\": \"https://vega.github.io/schema/vega-lite/v4.8.1.json\", \"datasets\": {\"data-70bc9f34fbb46646c582b763989f35f5\": [{\"source\": \"0\", \"target\": \"9\", \"words\": [\"EXTENSIONS\", \"SEMANTIC\"], \"x\": -0.4830868107241964, \"y\": -0.09128905134050082, \"x2\": -0.39405977760540345, \"y2\": -0.15844425919204505, \"edge_id\": 0}, {\"source\": \"1\", \"target\": \"12\", \"words\": [\"DYNAMICALLY\", \"DEMONSTRATE\", \"TECHNIQUES\", \"SPECIFICATION\", \"BENCHMARK\", \"ZOOMING\"], \"x\": 0.05576976322708827, \"y\": -0.1752467117871551, \"x2\": 0.2329727995559404, \"y2\": -0.13577266552331738, \"edge_id\": 1}, {\"source\": \"1\", \"target\": \"10\", \"words\": [\"UNITS\", \"TREATED\", \"CONTRAST\", \"RESPONSE\", \"LANGUAGES\", \"FEASIBILITY\"], \"x\": 0.05576976322708827, \"y\": -0.1752467117871551, \"x2\": -0.11796832893291824, \"y2\": -0.21225432580415177, \"edge_id\": 2}, {\"source\": \"2\", \"target\": \"14\", \"words\": [\"SPECIFICATION\", \"APPLIED\"], \"x\": 0.5525369824727551, \"y\": -0.15658250180980754, \"x2\": 0.40254833584369476, \"y2\": -0.18294563066936598, \"edge_id\": 3}, {\"source\": \"2\", \"target\": \"13\", \"words\": [], \"x\": 0.5525369824727551, \"y\": -0.15658250180980754, \"x2\": 0.6829208407857582, \"y2\": -0.12316930252641091, \"edge_id\": 4}, {\"source\": \"3\", \"target\": \"9\", \"words\": [\"SPECIFICATIONS\", \"NAMED\", \"SPECIFICATION\", \"DATA\", \"EXPRESSIVE\", \"LAYERED\", \"INTERACTION\"], \"x\": -0.290957353420334, \"y\": -0.2513103920661341, \"x2\": -0.39405977760540345, \"y2\": -0.15844425919204505, \"edge_id\": 5}, {\"source\": \"3\", \"target\": \"11\", \"words\": [], \"x\": -0.290957353420334, \"y\": -0.2513103920661341, \"x2\": -0.3915770882217117, \"y2\": -0.3786836151163462, \"edge_id\": 6}, {\"source\": \"3\", \"target\": \"10\", \"words\": [\"DEMONSTRATE\", \"GRAMMAR\", \"PANNING\"], \"x\": -0.290957353420334, \"y\": -0.2513103920661341, \"x2\": -0.11796832893291824, \"y2\": -0.21225432580415177, \"edge_id\": 7}, {\"source\": \"5\", \"target\": \"11\", \"words\": [\"GRAPH\", \"VISUALIZATION\"], \"x\": -0.4985434422579066, \"y\": -0.426982643994395, \"x2\": -0.3915770882217117, \"y2\": -0.3786836151163462, \"edge_id\": 8}, {\"source\": \"6\", \"target\": \"14\", \"words\": [\"COVERAGE\", \"COMPILE\", \"RELATIONAL\"], \"x\": 0.447456858142771, \"y\": -0.28352972869767623, \"x2\": 0.40254833584369476, \"y2\": -0.18294563066936598, \"edge_id\": 9}, {\"source\": \"8\", \"target\": \"17\", \"words\": [], \"x\": 0.2568152078467271, \"y\": -0.0063172100440331376, \"x2\": 0.2804475425840756, \"y2\": 0.10036864096698372, \"edge_id\": 10}, {\"source\": \"8\", \"target\": \"12\", \"words\": [\"SCALAR\"], \"x\": 0.2568152078467271, \"y\": -0.0063172100440331376, \"x2\": 0.2329727995559404, \"y2\": -0.13577266552331738, \"edge_id\": 11}, {\"source\": \"11\", \"target\": \"16\", \"words\": [\"TAXONOMY\"], \"x\": -0.3915770882217117, \"y\": -0.3786836151163462, \"x2\": -0.4058988165889267, \"y2\": -0.48987660597220156, \"edge_id\": 12}, {\"source\": \"12\", \"target\": \"14\", \"words\": [\"VISUAL\", \"INTERACTION\", \"CONSTRUCTS\", \"INTERACTIVE\"], \"x\": 0.2329727995559404, \"y\": -0.13577266552331738, \"x2\": 0.40254833584369476, \"y2\": -0.18294563066936598, \"edge_id\": 13}, {\"source\": \"13\", \"target\": \"19\", \"words\": [\"TECHNIQUESWE\"], \"x\": 0.6829208407857582, \"y\": -0.12316930252641091, \"x2\": 0.7713262506009022, \"y2\": -0.06947770715809581, \"edge_id\": 14}], \"data-36790f1485ab0b810123d639f92fe01e\": [{\"x\": -0.4830868107241964, \"y\": -0.09128905134050082, \"node_id\": \"0\"}, {\"x\": 0.05576976322708827, \"y\": -0.1752467117871551, \"node_id\": \"1\"}, {\"x\": 0.5525369824727551, \"y\": -0.15658250180980754, \"node_id\": \"2\"}, {\"x\": -0.290957353420334, \"y\": -0.2513103920661341, \"node_id\": \"3\"}, {\"x\": 0.5851402242983967, \"y\": 0.8772818505519152, \"node_id\": \"4\"}, {\"x\": -0.4985434422579066, \"y\": -0.426982643994395, \"node_id\": \"5\"}, {\"x\": 0.447456858142771, \"y\": -0.28352972869767623, \"node_id\": \"6\"}, {\"x\": -0.6441765831662817, \"y\": 0.8003793334621913, \"node_id\": \"7\"}, {\"x\": 0.2568152078467271, \"y\": -0.0063172100440331376, \"node_id\": \"8\"}, {\"x\": -0.39405977760540345, \"y\": -0.15844425919204505, \"node_id\": \"9\"}, {\"x\": -0.11796832893291824, \"y\": -0.21225432580415177, \"node_id\": \"10\"}, {\"x\": -0.3915770882217117, \"y\": -0.3786836151163462, \"node_id\": \"11\"}, {\"x\": 0.2329727995559404, \"y\": -0.13577266552331738, \"node_id\": \"12\"}, {\"x\": 0.6829208407857582, \"y\": -0.12316930252641091, \"node_id\": \"13\"}, {\"x\": 0.40254833584369476, \"y\": -0.18294563066936598, \"node_id\": \"14\"}, {\"x\": -0.8495485493206985, \"y\": 0.36385252672054597, \"node_id\": \"15\"}, {\"x\": -0.4058988165889267, \"y\": -0.48987660597220156, \"node_id\": \"16\"}, {\"x\": 0.2804475425840756, \"y\": 0.10036864096698372, \"node_id\": \"17\"}, {\"x\": -0.19211805511973187, \"y\": 1.0, \"node_id\": \"18\"}, {\"x\": 0.7713262506009022, \"y\": -0.06947770715809581, \"node_id\": \"19\"}], \"data-d7405e98dd21b02ce832688ea90a496e\": [{\"source\": \"0\", \"target\": \"9\", \"word\": \"EXTENSIONS\", \"x\": -0.4830868107241964, \"y\": -0.09128905134050082, \"x2\": -0.39405977760540345, \"y2\": -0.15844425919204505, \"edge_id\": 0}, {\"source\": \"0\", \"target\": \"9\", \"word\": \"SEMANTIC\", \"x\": -0.4830868107241964, \"y\": -0.09128905134050082, \"x2\": -0.39405977760540345, \"y2\": -0.15844425919204505, \"edge_id\": 0}, {\"source\": \"1\", \"target\": \"12\", \"word\": \"DYNAMICALLY\", \"x\": 0.05576976322708827, \"y\": -0.1752467117871551, \"x2\": 0.2329727995559404, \"y2\": -0.13577266552331738, \"edge_id\": 1}, {\"source\": \"1\", \"target\": \"12\", \"word\": \"DEMONSTRATE\", \"x\": 0.05576976322708827, \"y\": -0.1752467117871551, \"x2\": 0.2329727995559404, \"y2\": -0.13577266552331738, \"edge_id\": 1}, {\"source\": \"1\", \"target\": \"12\", \"word\": \"TECHNIQUES\", \"x\": 0.05576976322708827, \"y\": -0.1752467117871551, \"x2\": 0.2329727995559404, \"y2\": -0.13577266552331738, \"edge_id\": 1}, {\"source\": \"1\", \"target\": \"12\", \"word\": \"SPECIFICATION\", \"x\": 0.05576976322708827, \"y\": -0.1752467117871551, \"x2\": 0.2329727995559404, \"y2\": -0.13577266552331738, \"edge_id\": 1}, {\"source\": \"1\", \"target\": \"12\", \"word\": \"BENCHMARK\", \"x\": 0.05576976322708827, \"y\": -0.1752467117871551, \"x2\": 0.2329727995559404, \"y2\": -0.13577266552331738, \"edge_id\": 1}, {\"source\": \"1\", \"target\": \"12\", \"word\": \"ZOOMING\", \"x\": 0.05576976322708827, \"y\": -0.1752467117871551, \"x2\": 0.2329727995559404, \"y2\": -0.13577266552331738, \"edge_id\": 1}, {\"source\": \"1\", \"target\": \"10\", \"word\": \"UNITS\", \"x\": 0.05576976322708827, \"y\": -0.1752467117871551, \"x2\": -0.11796832893291824, \"y2\": -0.21225432580415177, \"edge_id\": 2}, {\"source\": \"1\", \"target\": \"10\", \"word\": \"TREATED\", \"x\": 0.05576976322708827, \"y\": -0.1752467117871551, \"x2\": -0.11796832893291824, \"y2\": -0.21225432580415177, \"edge_id\": 2}, {\"source\": \"1\", \"target\": \"10\", \"word\": \"CONTRAST\", \"x\": 0.05576976322708827, \"y\": -0.1752467117871551, \"x2\": -0.11796832893291824, \"y2\": -0.21225432580415177, \"edge_id\": 2}, {\"source\": \"1\", \"target\": \"10\", \"word\": \"RESPONSE\", \"x\": 0.05576976322708827, \"y\": -0.1752467117871551, \"x2\": -0.11796832893291824, \"y2\": -0.21225432580415177, \"edge_id\": 2}, {\"source\": \"1\", \"target\": \"10\", \"word\": \"LANGUAGES\", \"x\": 0.05576976322708827, \"y\": -0.1752467117871551, \"x2\": -0.11796832893291824, \"y2\": -0.21225432580415177, \"edge_id\": 2}, {\"source\": \"1\", \"target\": \"10\", \"word\": \"FEASIBILITY\", \"x\": 0.05576976322708827, \"y\": -0.1752467117871551, \"x2\": -0.11796832893291824, \"y2\": -0.21225432580415177, \"edge_id\": 2}, {\"source\": \"2\", \"target\": \"14\", \"word\": \"SPECIFICATION\", \"x\": 0.5525369824727551, \"y\": -0.15658250180980754, \"x2\": 0.40254833584369476, \"y2\": -0.18294563066936598, \"edge_id\": 3}, {\"source\": \"2\", \"target\": \"14\", \"word\": \"APPLIED\", \"x\": 0.5525369824727551, \"y\": -0.15658250180980754, \"x2\": 0.40254833584369476, \"y2\": -0.18294563066936598, \"edge_id\": 3}, {\"source\": \"3\", \"target\": \"9\", \"word\": \"SPECIFICATIONS\", \"x\": -0.290957353420334, \"y\": -0.2513103920661341, \"x2\": -0.39405977760540345, \"y2\": -0.15844425919204505, \"edge_id\": 5}, {\"source\": \"3\", \"target\": \"9\", \"word\": \"NAMED\", \"x\": -0.290957353420334, \"y\": -0.2513103920661341, \"x2\": -0.39405977760540345, \"y2\": -0.15844425919204505, \"edge_id\": 5}, {\"source\": \"3\", \"target\": \"9\", \"word\": \"SPECIFICATION\", \"x\": -0.290957353420334, \"y\": -0.2513103920661341, \"x2\": -0.39405977760540345, \"y2\": -0.15844425919204505, \"edge_id\": 5}, {\"source\": \"3\", \"target\": \"9\", \"word\": \"DATA\", \"x\": -0.290957353420334, \"y\": -0.2513103920661341, \"x2\": -0.39405977760540345, \"y2\": -0.15844425919204505, \"edge_id\": 5}, {\"source\": \"3\", \"target\": \"9\", \"word\": \"EXPRESSIVE\", \"x\": -0.290957353420334, \"y\": -0.2513103920661341, \"x2\": -0.39405977760540345, \"y2\": -0.15844425919204505, \"edge_id\": 5}, {\"source\": \"3\", \"target\": \"9\", \"word\": \"LAYERED\", \"x\": -0.290957353420334, \"y\": -0.2513103920661341, \"x2\": -0.39405977760540345, \"y2\": -0.15844425919204505, \"edge_id\": 5}, {\"source\": \"3\", \"target\": \"9\", \"word\": \"INTERACTION\", \"x\": -0.290957353420334, \"y\": -0.2513103920661341, \"x2\": -0.39405977760540345, \"y2\": -0.15844425919204505, \"edge_id\": 5}, {\"source\": \"3\", \"target\": \"10\", \"word\": \"DEMONSTRATE\", \"x\": -0.290957353420334, \"y\": -0.2513103920661341, \"x2\": -0.11796832893291824, \"y2\": -0.21225432580415177, \"edge_id\": 7}, {\"source\": \"3\", \"target\": \"10\", \"word\": \"GRAMMAR\", \"x\": -0.290957353420334, \"y\": -0.2513103920661341, \"x2\": -0.11796832893291824, \"y2\": -0.21225432580415177, \"edge_id\": 7}, {\"source\": \"3\", \"target\": \"10\", \"word\": \"PANNING\", \"x\": -0.290957353420334, \"y\": -0.2513103920661341, \"x2\": -0.11796832893291824, \"y2\": -0.21225432580415177, \"edge_id\": 7}, {\"source\": \"5\", \"target\": \"11\", \"word\": \"GRAPH\", \"x\": -0.4985434422579066, \"y\": -0.426982643994395, \"x2\": -0.3915770882217117, \"y2\": -0.3786836151163462, \"edge_id\": 8}, {\"source\": \"5\", \"target\": \"11\", \"word\": \"VISUALIZATION\", \"x\": -0.4985434422579066, \"y\": -0.426982643994395, \"x2\": -0.3915770882217117, \"y2\": -0.3786836151163462, \"edge_id\": 8}, {\"source\": \"6\", \"target\": \"14\", \"word\": \"COVERAGE\", \"x\": 0.447456858142771, \"y\": -0.28352972869767623, \"x2\": 0.40254833584369476, \"y2\": -0.18294563066936598, \"edge_id\": 9}, {\"source\": \"6\", \"target\": \"14\", \"word\": \"COMPILE\", \"x\": 0.447456858142771, \"y\": -0.28352972869767623, \"x2\": 0.40254833584369476, \"y2\": -0.18294563066936598, \"edge_id\": 9}, {\"source\": \"6\", \"target\": \"14\", \"word\": \"RELATIONAL\", \"x\": 0.447456858142771, \"y\": -0.28352972869767623, \"x2\": 0.40254833584369476, \"y2\": -0.18294563066936598, \"edge_id\": 9}, {\"source\": \"8\", \"target\": \"12\", \"word\": \"SCALAR\", \"x\": 0.2568152078467271, \"y\": -0.0063172100440331376, \"x2\": 0.2329727995559404, \"y2\": -0.13577266552331738, \"edge_id\": 11}, {\"source\": \"11\", \"target\": \"16\", \"word\": \"TAXONOMY\", \"x\": -0.3915770882217117, \"y\": -0.3786836151163462, \"x2\": -0.4058988165889267, \"y2\": -0.48987660597220156, \"edge_id\": 12}, {\"source\": \"12\", \"target\": \"14\", \"word\": \"VISUAL\", \"x\": 0.2329727995559404, \"y\": -0.13577266552331738, \"x2\": 0.40254833584369476, \"y2\": -0.18294563066936598, \"edge_id\": 13}, {\"source\": \"12\", \"target\": \"14\", \"word\": \"INTERACTION\", \"x\": 0.2329727995559404, \"y\": -0.13577266552331738, \"x2\": 0.40254833584369476, \"y2\": -0.18294563066936598, \"edge_id\": 13}, {\"source\": \"12\", \"target\": \"14\", \"word\": \"CONSTRUCTS\", \"x\": 0.2329727995559404, \"y\": -0.13577266552331738, \"x2\": 0.40254833584369476, \"y2\": -0.18294563066936598, \"edge_id\": 13}, {\"source\": \"12\", \"target\": \"14\", \"word\": \"INTERACTIVE\", \"x\": 0.2329727995559404, \"y\": -0.13577266552331738, \"x2\": 0.40254833584369476, \"y2\": -0.18294563066936598, \"edge_id\": 13}, {\"source\": \"13\", \"target\": \"19\", \"word\": \"TECHNIQUESWE\", \"x\": 0.6829208407857582, \"y\": -0.12316930252641091, \"x2\": 0.7713262506009022, \"y2\": -0.06947770715809581, \"edge_id\": 14}]}}, {\"mode\": \"vega-lite\"});\n",
       "</script>"
      ],
      "text/plain": [
       "alt.HConcatChart(...)"
      ]
     },
     "execution_count": 69,
     "metadata": {},
     "output_type": "execute_result"
    }
   ],
   "source": [
    "chart_height = 750\n",
    "\n",
    "brush = alt.selection_interval(empty='none')\n",
    "\n",
    "nodes = alt.Chart(node_data).mark_point(\n",
    "    size=100, \n",
    ").encode(\n",
    "    x='x',\n",
    "    y='y',\n",
    ")\n",
    "\n",
    "labels = nodes.mark_text(\n",
    "    align='left',\n",
    "    baseline='middle',\n",
    "    dx=7\n",
    ").encode(text='node_id')\n",
    "\n",
    "\n",
    "edges = alt.Chart(edge_data).mark_line().encode(\n",
    "    alt.X('x', axis=None),\n",
    "    alt.Y('y', axis=None),\n",
    "    alt.X2('x2'),\n",
    "    alt.Y2('y2'),\n",
    "    color=alt.condition(brush, alt.value('black'), alt.value('lightgray'), legend=None),\n",
    ").add_selection(brush).properties(height=chart_height)\n",
    "\n",
    "barchart_base = alt.Chart(edge_words).mark_bar(\n",
    ").encode(\n",
    "    x='count(word):Q',\n",
    "    y=alt.Y('word:N'),\n",
    "    color=alt.value('lightgray')\n",
    ").properties(\n",
    "    width=50,\n",
    "    height=chart_height\n",
    ")\n",
    "\n",
    "selected_words_barchart = barchart_base.mark_bar(\n",
    ").encode(\n",
    "    color=alt.value('1f77b4')\n",
    ").transform_filter(brush)\n",
    "\n",
    "graph_plot = alt.layer(edges, nodes, labels)\n",
    "barchart = barchart_base + selected_words_barchart\n",
    "graph_plot | barchart"
   ]
  }
 ],
 "metadata": {
  "kernelspec": {
   "display_name": "graph",
   "language": "python",
   "name": "graph"
  },
  "language_info": {
   "codemirror_mode": {
    "name": "ipython",
    "version": 3
   },
   "file_extension": ".py",
   "mimetype": "text/x-python",
   "name": "python",
   "nbconvert_exporter": "python",
   "pygments_lexer": "ipython3",
   "version": "3.8.5"
  }
 },
 "nbformat": 4,
 "nbformat_minor": 4
}
